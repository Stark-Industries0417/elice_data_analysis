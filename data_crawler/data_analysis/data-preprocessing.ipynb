{
 "cells": [
  {
   "cell_type": "markdown",
   "source": [
    "# Import DATA"
   ],
   "metadata": {}
  },
  {
   "cell_type": "code",
   "execution_count": 1,
   "source": [
    "import os\n",
    "import pandas as pd\n",
    "\n",
    "os.chdir('../siksin')\n",
    "from restaurant_url import sikshin_restaurant_url_src as siksin\n",
    "from restaurant_review import siksin_review_list\n",
    "\n",
    "ss_data = pd.DataFrame(siksin, columns=[\"name\", \"url\", \"img_url\", \"total_rating\"])\n",
    "ss_review = pd.DataFrame(siksin_review_list, columns=[\"platform\", \"name\", \"rating\", \"comment\"]).drop_duplicates()\n",
    "\n",
    "os.chdir('../kakao')\n",
    "from kakao_restaurant import kakao_list as kakao\n",
    "from kakao_restaurant_review import kakao_review_list as kakao_review\n",
    "\n",
    "k_data = pd.DataFrame(kakao, columns=[\"name\", \"category\", \"total_rating\", \"rating_count\", \"img_url\"])\n",
    "k_review = pd.DataFrame(kakao_review, columns=[\"platform\", \"name\", \"rating\", \"rating_date\", \"comment\"]).drop_duplicates()\n",
    "\n",
    "os.chdir('../mangoplate')\n",
    "\n",
    "m_data = pd.read_csv(\"mango_restaurant.csv\", header=0, names=[\"name\", \"total_rating\", \"category\", \"img_url\"])\n",
    "m_review = pd.read_csv(\"mangoplate_review.csv\", header=0, names=[\"name\", \"rating_date\", \"comment\", \"rating\"]).drop_duplicates()\n",
    "\n",
    "os.chdir('../naver')\n",
    "\n",
    "n_data = pd.read_csv(\"naver_restaurant.csv\", header=0, names=[\"name\", \"category\", \"total_rating\"], usecols=[0, 1, 2])\n",
    "n_review = pd.read_csv(\"naver_review.csv\", header=0, names=[\"name\", \"rating_date\", \"comment\", \"rating\"])\n",
    "n_review = n_review.append(pd.read_csv(\"naver_review_by_tab.csv\", header=0, names=[\"name\", \"rating_date\", \"comment\", \"rating\"], sep=\"\\t\"), ignore_index=True).drop_duplicates()\n",
    "\n",
    "os.chdir(\"../data_analysis\")\n",
    "\n",
    "ss_data[\"platform\"] = \"siksin\"\n",
    "n_data[\"platform\"] = \"naver\"\n",
    "k_data[\"platform\"] = \"kakao\"\n",
    "m_data[\"platform\"] = \"mango\"\n",
    "\n",
    "display(k_review.info(), ss_review.info(), m_review.info(), n_review.info(), ss_data.head(1), k_data.head(1), m_data.head(1), n_data.head(1), n_review.head(1))"
   ],
   "outputs": [
    {
     "output_type": "stream",
     "name": "stdout",
     "text": [
      "<class 'pandas.core.frame.DataFrame'>\n",
      "Int64Index: 7214 entries, 0 to 7219\n",
      "Data columns (total 5 columns):\n",
      " #   Column       Non-Null Count  Dtype \n",
      "---  ------       --------------  ----- \n",
      " 0   platform     7214 non-null   object\n",
      " 1   name         7214 non-null   object\n",
      " 2   rating       7214 non-null   int64 \n",
      " 3   rating_date  7214 non-null   object\n",
      " 4   comment      7214 non-null   object\n",
      "dtypes: int64(1), object(4)\n",
      "memory usage: 338.2+ KB\n",
      "<class 'pandas.core.frame.DataFrame'>\n",
      "Int64Index: 1963 entries, 0 to 2041\n",
      "Data columns (total 4 columns):\n",
      " #   Column    Non-Null Count  Dtype \n",
      "---  ------    --------------  ----- \n",
      " 0   platform  1963 non-null   object\n",
      " 1   name      1963 non-null   object\n",
      " 2   rating    1963 non-null   object\n",
      " 3   comment   1963 non-null   object\n",
      "dtypes: object(4)\n",
      "memory usage: 76.7+ KB\n",
      "<class 'pandas.core.frame.DataFrame'>\n",
      "Int64Index: 2917 entries, 0 to 2922\n",
      "Data columns (total 4 columns):\n",
      " #   Column       Non-Null Count  Dtype \n",
      "---  ------       --------------  ----- \n",
      " 0   name         2917 non-null   object\n",
      " 1   rating_date  2917 non-null   object\n",
      " 2   comment      2917 non-null   object\n",
      " 3   rating       2917 non-null   int64 \n",
      "dtypes: int64(1), object(3)\n",
      "memory usage: 113.9+ KB\n",
      "<class 'pandas.core.frame.DataFrame'>\n",
      "Int64Index: 17660 entries, 0 to 21032\n",
      "Data columns (total 4 columns):\n",
      " #   Column       Non-Null Count  Dtype  \n",
      "---  ------       --------------  -----  \n",
      " 0   name         17660 non-null  object \n",
      " 1   rating_date  17660 non-null  object \n",
      " 2   comment      17285 non-null  object \n",
      " 3   rating       17660 non-null  float64\n",
      "dtypes: float64(1), object(3)\n",
      "memory usage: 689.8+ KB\n"
     ]
    },
    {
     "output_type": "display_data",
     "data": {
      "text/plain": [
       "None"
      ]
     },
     "metadata": {}
    },
    {
     "output_type": "display_data",
     "data": {
      "text/plain": [
       "None"
      ]
     },
     "metadata": {}
    },
    {
     "output_type": "display_data",
     "data": {
      "text/plain": [
       "None"
      ]
     },
     "metadata": {}
    },
    {
     "output_type": "display_data",
     "data": {
      "text/plain": [
       "None"
      ]
     },
     "metadata": {}
    },
    {
     "output_type": "display_data",
     "data": {
      "text/html": [
       "<div>\n",
       "<style scoped>\n",
       "    .dataframe tbody tr th:only-of-type {\n",
       "        vertical-align: middle;\n",
       "    }\n",
       "\n",
       "    .dataframe tbody tr th {\n",
       "        vertical-align: top;\n",
       "    }\n",
       "\n",
       "    .dataframe thead th {\n",
       "        text-align: right;\n",
       "    }\n",
       "</style>\n",
       "<table border=\"1\" class=\"dataframe\">\n",
       "  <thead>\n",
       "    <tr style=\"text-align: right;\">\n",
       "      <th></th>\n",
       "      <th>name</th>\n",
       "      <th>url</th>\n",
       "      <th>img_url</th>\n",
       "      <th>total_rating</th>\n",
       "      <th>platform</th>\n",
       "    </tr>\n",
       "  </thead>\n",
       "  <tbody>\n",
       "    <tr>\n",
       "      <th>0</th>\n",
       "      <td>하남돼지집 선릉역삼점</td>\n",
       "      <td>https://www.siksinhot.com/P/369301</td>\n",
       "      <td>https://img.siksinhot.com/place/14639799276066...</td>\n",
       "      <td>4.3</td>\n",
       "      <td>siksin</td>\n",
       "    </tr>\n",
       "  </tbody>\n",
       "</table>\n",
       "</div>"
      ],
      "text/plain": [
       "          name                                 url  \\\n",
       "0  하남돼지집 선릉역삼점  https://www.siksinhot.com/P/369301   \n",
       "\n",
       "                                             img_url total_rating platform  \n",
       "0  https://img.siksinhot.com/place/14639799276066...          4.3   siksin  "
      ]
     },
     "metadata": {}
    },
    {
     "output_type": "display_data",
     "data": {
      "text/html": [
       "<div>\n",
       "<style scoped>\n",
       "    .dataframe tbody tr th:only-of-type {\n",
       "        vertical-align: middle;\n",
       "    }\n",
       "\n",
       "    .dataframe tbody tr th {\n",
       "        vertical-align: top;\n",
       "    }\n",
       "\n",
       "    .dataframe thead th {\n",
       "        text-align: right;\n",
       "    }\n",
       "</style>\n",
       "<table border=\"1\" class=\"dataframe\">\n",
       "  <thead>\n",
       "    <tr style=\"text-align: right;\">\n",
       "      <th></th>\n",
       "      <th>name</th>\n",
       "      <th>category</th>\n",
       "      <th>total_rating</th>\n",
       "      <th>rating_count</th>\n",
       "      <th>img_url</th>\n",
       "      <th>platform</th>\n",
       "    </tr>\n",
       "  </thead>\n",
       "  <tbody>\n",
       "    <tr>\n",
       "      <th>0</th>\n",
       "      <td>뽕나무쟁이 선릉본점</td>\n",
       "      <td>족발,보쌈</td>\n",
       "      <td>4.1</td>\n",
       "      <td>111</td>\n",
       "      <td>https://place.map.kakao.com/11190567</td>\n",
       "      <td>kakao</td>\n",
       "    </tr>\n",
       "  </tbody>\n",
       "</table>\n",
       "</div>"
      ],
      "text/plain": [
       "         name category  total_rating  rating_count  \\\n",
       "0  뽕나무쟁이 선릉본점    족발,보쌈           4.1           111   \n",
       "\n",
       "                                img_url platform  \n",
       "0  https://place.map.kakao.com/11190567    kakao  "
      ]
     },
     "metadata": {}
    },
    {
     "output_type": "display_data",
     "data": {
      "text/html": [
       "<div>\n",
       "<style scoped>\n",
       "    .dataframe tbody tr th:only-of-type {\n",
       "        vertical-align: middle;\n",
       "    }\n",
       "\n",
       "    .dataframe tbody tr th {\n",
       "        vertical-align: top;\n",
       "    }\n",
       "\n",
       "    .dataframe thead th {\n",
       "        text-align: right;\n",
       "    }\n",
       "</style>\n",
       "<table border=\"1\" class=\"dataframe\">\n",
       "  <thead>\n",
       "    <tr style=\"text-align: right;\">\n",
       "      <th></th>\n",
       "      <th>name</th>\n",
       "      <th>total_rating</th>\n",
       "      <th>category</th>\n",
       "      <th>img_url</th>\n",
       "      <th>platform</th>\n",
       "    </tr>\n",
       "  </thead>\n",
       "  <tbody>\n",
       "    <tr>\n",
       "      <th>0</th>\n",
       "      <td>모찌방</td>\n",
       "      <td>4.4</td>\n",
       "      <td>카페/디저트</td>\n",
       "      <td>https://mp-seoul-image-production-s3.mangoplat...</td>\n",
       "      <td>mango</td>\n",
       "    </tr>\n",
       "  </tbody>\n",
       "</table>\n",
       "</div>"
      ],
      "text/plain": [
       "  name  total_rating category  \\\n",
       "0  모찌방           4.4   카페/디저트   \n",
       "\n",
       "                                             img_url platform  \n",
       "0  https://mp-seoul-image-production-s3.mangoplat...    mango  "
      ]
     },
     "metadata": {}
    },
    {
     "output_type": "display_data",
     "data": {
      "text/html": [
       "<div>\n",
       "<style scoped>\n",
       "    .dataframe tbody tr th:only-of-type {\n",
       "        vertical-align: middle;\n",
       "    }\n",
       "\n",
       "    .dataframe tbody tr th {\n",
       "        vertical-align: top;\n",
       "    }\n",
       "\n",
       "    .dataframe thead th {\n",
       "        text-align: right;\n",
       "    }\n",
       "</style>\n",
       "<table border=\"1\" class=\"dataframe\">\n",
       "  <thead>\n",
       "    <tr style=\"text-align: right;\">\n",
       "      <th></th>\n",
       "      <th>name</th>\n",
       "      <th>category</th>\n",
       "      <th>total_rating</th>\n",
       "      <th>platform</th>\n",
       "    </tr>\n",
       "  </thead>\n",
       "  <tbody>\n",
       "    <tr>\n",
       "      <th>0</th>\n",
       "      <td>도쿄등심 선릉점</td>\n",
       "      <td>소고기구이</td>\n",
       "      <td>4.51</td>\n",
       "      <td>naver</td>\n",
       "    </tr>\n",
       "  </tbody>\n",
       "</table>\n",
       "</div>"
      ],
      "text/plain": [
       "       name category  total_rating platform\n",
       "0  도쿄등심 선릉점    소고기구이          4.51    naver"
      ]
     },
     "metadata": {}
    },
    {
     "output_type": "display_data",
     "data": {
      "text/html": [
       "<div>\n",
       "<style scoped>\n",
       "    .dataframe tbody tr th:only-of-type {\n",
       "        vertical-align: middle;\n",
       "    }\n",
       "\n",
       "    .dataframe tbody tr th {\n",
       "        vertical-align: top;\n",
       "    }\n",
       "\n",
       "    .dataframe thead th {\n",
       "        text-align: right;\n",
       "    }\n",
       "</style>\n",
       "<table border=\"1\" class=\"dataframe\">\n",
       "  <thead>\n",
       "    <tr style=\"text-align: right;\">\n",
       "      <th></th>\n",
       "      <th>name</th>\n",
       "      <th>rating_date</th>\n",
       "      <th>comment</th>\n",
       "      <th>rating</th>\n",
       "    </tr>\n",
       "  </thead>\n",
       "  <tbody>\n",
       "    <tr>\n",
       "      <th>0</th>\n",
       "      <td>명품유쾌 강남본점</td>\n",
       "      <td>2021.09.11</td>\n",
       "      <td>NaN</td>\n",
       "      <td>5.0</td>\n",
       "    </tr>\n",
       "  </tbody>\n",
       "</table>\n",
       "</div>"
      ],
      "text/plain": [
       "        name rating_date comment  rating\n",
       "0  명품유쾌 강남본점  2021.09.11     NaN     5.0"
      ]
     },
     "metadata": {}
    }
   ],
   "metadata": {}
  },
  {
   "cell_type": "markdown",
   "source": [
    "# 2개 이상의 플랫폼에서 리뷰를 가져온 음식점 찾기"
   ],
   "metadata": {}
  },
  {
   "cell_type": "code",
   "execution_count": 2,
   "source": [
    "display(k_review[\"name\"].nunique(), ss_review[\"name\"].nunique(), m_review[\"name\"].nunique(), n_review[\"name\"].nunique())"
   ],
   "outputs": [
    {
     "output_type": "display_data",
     "data": {
      "text/plain": [
       "495"
      ]
     },
     "metadata": {}
    },
    {
     "output_type": "display_data",
     "data": {
      "text/plain": [
       "147"
      ]
     },
     "metadata": {}
    },
    {
     "output_type": "display_data",
     "data": {
      "text/plain": [
       "193"
      ]
     },
     "metadata": {}
    },
    {
     "output_type": "display_data",
     "data": {
      "text/plain": [
       "158"
      ]
     },
     "metadata": {}
    }
   ],
   "metadata": {}
  },
  {
   "cell_type": "code",
   "execution_count": 3,
   "source": [
    "print(n_review[\"name\"].nunique())"
   ],
   "outputs": [
    {
     "output_type": "stream",
     "name": "stdout",
     "text": [
      "158\n"
     ]
    }
   ],
   "metadata": {}
  },
  {
   "cell_type": "code",
   "execution_count": 4,
   "source": [
    "ss_names = set(ss_data[\"name\"])\n",
    "k_names = set(k_data[\"name\"])\n",
    "m_names = set(m_data[\"name\"])\n",
    "n_names = set(n_data[\"name\"])\n",
    "\n",
    "kn_names = k_names.union(n_names)\n",
    "print(len(list(kn_names)))\n",
    "\n",
    "knm_names = kn_names.union(m_names)\n",
    "print(len(list(knm_names)))\n",
    "\n",
    "all_names = knm_names.union(ss_names)\n",
    "print(len(list(all_names)))"
   ],
   "outputs": [
    {
     "output_type": "stream",
     "name": "stdout",
     "text": [
      "659\n",
      "782\n",
      "891\n"
     ]
    }
   ],
   "metadata": {}
  },
  {
   "cell_type": "code",
   "execution_count": 5,
   "source": [
    "ss_np = ss_data[[\"name\", \"platform\"]].set_index('name').rename(columns={\"platform\":\"ss_platform\"})\n",
    "n_np = n_data[[\"name\", \"platform\"]].set_index('name').rename(columns={\"platform\":\"n_platform\"})\n",
    "k_np = k_data[[\"name\", \"platform\"]].set_index('name').rename(columns={\"platform\":\"k_platform\"})\n",
    "m_np = m_data[[\"name\", \"platform\"]].set_index('name').rename(columns={\"platform\":\"m_platform\"})"
   ],
   "outputs": [],
   "metadata": {}
  },
  {
   "cell_type": "code",
   "execution_count": 6,
   "source": [
    "kn_np = k_np.join(n_np)\n",
    "knm_np = kn_np.join(m_np)\n",
    "all_np = knm_np.join(ss_np)\n",
    "all_np\n"
   ],
   "outputs": [
    {
     "output_type": "execute_result",
     "data": {
      "text/html": [
       "<div>\n",
       "<style scoped>\n",
       "    .dataframe tbody tr th:only-of-type {\n",
       "        vertical-align: middle;\n",
       "    }\n",
       "\n",
       "    .dataframe tbody tr th {\n",
       "        vertical-align: top;\n",
       "    }\n",
       "\n",
       "    .dataframe thead th {\n",
       "        text-align: right;\n",
       "    }\n",
       "</style>\n",
       "<table border=\"1\" class=\"dataframe\">\n",
       "  <thead>\n",
       "    <tr style=\"text-align: right;\">\n",
       "      <th></th>\n",
       "      <th>k_platform</th>\n",
       "      <th>n_platform</th>\n",
       "      <th>m_platform</th>\n",
       "      <th>ss_platform</th>\n",
       "    </tr>\n",
       "    <tr>\n",
       "      <th>name</th>\n",
       "      <th></th>\n",
       "      <th></th>\n",
       "      <th></th>\n",
       "      <th></th>\n",
       "    </tr>\n",
       "  </thead>\n",
       "  <tbody>\n",
       "    <tr>\n",
       "      <th>1260이베리코흑돼지 강남직영점</th>\n",
       "      <td>kakao</td>\n",
       "      <td>NaN</td>\n",
       "      <td>NaN</td>\n",
       "      <td>NaN</td>\n",
       "    </tr>\n",
       "    <tr>\n",
       "      <th>24시와구아구</th>\n",
       "      <td>kakao</td>\n",
       "      <td>NaN</td>\n",
       "      <td>NaN</td>\n",
       "      <td>NaN</td>\n",
       "    </tr>\n",
       "    <tr>\n",
       "      <th>60년전통 신촌황소곱창 선릉직영점</th>\n",
       "      <td>kakao</td>\n",
       "      <td>NaN</td>\n",
       "      <td>NaN</td>\n",
       "      <td>NaN</td>\n",
       "    </tr>\n",
       "    <tr>\n",
       "      <th>7%칠백식당 포스코직영점</th>\n",
       "      <td>kakao</td>\n",
       "      <td>NaN</td>\n",
       "      <td>NaN</td>\n",
       "      <td>NaN</td>\n",
       "    </tr>\n",
       "    <tr>\n",
       "      <th>705사케집 선릉점</th>\n",
       "      <td>kakao</td>\n",
       "      <td>NaN</td>\n",
       "      <td>NaN</td>\n",
       "      <td>NaN</td>\n",
       "    </tr>\n",
       "    <tr>\n",
       "      <th>...</th>\n",
       "      <td>...</td>\n",
       "      <td>...</td>\n",
       "      <td>...</td>\n",
       "      <td>...</td>\n",
       "    </tr>\n",
       "    <tr>\n",
       "      <th>후웨이즈텐카민</th>\n",
       "      <td>kakao</td>\n",
       "      <td>NaN</td>\n",
       "      <td>NaN</td>\n",
       "      <td>NaN</td>\n",
       "    </tr>\n",
       "    <tr>\n",
       "      <th>후지</th>\n",
       "      <td>kakao</td>\n",
       "      <td>NaN</td>\n",
       "      <td>NaN</td>\n",
       "      <td>NaN</td>\n",
       "    </tr>\n",
       "    <tr>\n",
       "      <th>흑돈가 삼성역점</th>\n",
       "      <td>kakao</td>\n",
       "      <td>NaN</td>\n",
       "      <td>NaN</td>\n",
       "      <td>NaN</td>\n",
       "    </tr>\n",
       "    <tr>\n",
       "      <th>희 카롱</th>\n",
       "      <td>kakao</td>\n",
       "      <td>NaN</td>\n",
       "      <td>NaN</td>\n",
       "      <td>NaN</td>\n",
       "    </tr>\n",
       "    <tr>\n",
       "      <th>히라이 선릉점</th>\n",
       "      <td>kakao</td>\n",
       "      <td>NaN</td>\n",
       "      <td>NaN</td>\n",
       "      <td>NaN</td>\n",
       "    </tr>\n",
       "  </tbody>\n",
       "</table>\n",
       "<p>504 rows × 4 columns</p>\n",
       "</div>"
      ],
      "text/plain": [
       "                   k_platform n_platform m_platform ss_platform\n",
       "name                                                           \n",
       "1260이베리코흑돼지 강남직영점       kakao        NaN        NaN         NaN\n",
       "24시와구아구                 kakao        NaN        NaN         NaN\n",
       "60년전통 신촌황소곱창 선릉직영점      kakao        NaN        NaN         NaN\n",
       "7%칠백식당 포스코직영점           kakao        NaN        NaN         NaN\n",
       "705사케집 선릉점              kakao        NaN        NaN         NaN\n",
       "...                       ...        ...        ...         ...\n",
       "후웨이즈텐카민                 kakao        NaN        NaN         NaN\n",
       "후지                      kakao        NaN        NaN         NaN\n",
       "흑돈가 삼성역점                kakao        NaN        NaN         NaN\n",
       "희 카롱                    kakao        NaN        NaN         NaN\n",
       "히라이 선릉점                 kakao        NaN        NaN         NaN\n",
       "\n",
       "[504 rows x 4 columns]"
      ]
     },
     "metadata": {},
     "execution_count": 6
    }
   ],
   "metadata": {}
  },
  {
   "cell_type": "code",
   "execution_count": 7,
   "source": [
    "all_count = pd.DataFrame(4 - all_np.isnull().sum(axis = 1), columns=[\"count\"])\n",
    "all_count"
   ],
   "outputs": [
    {
     "output_type": "execute_result",
     "data": {
      "text/html": [
       "<div>\n",
       "<style scoped>\n",
       "    .dataframe tbody tr th:only-of-type {\n",
       "        vertical-align: middle;\n",
       "    }\n",
       "\n",
       "    .dataframe tbody tr th {\n",
       "        vertical-align: top;\n",
       "    }\n",
       "\n",
       "    .dataframe thead th {\n",
       "        text-align: right;\n",
       "    }\n",
       "</style>\n",
       "<table border=\"1\" class=\"dataframe\">\n",
       "  <thead>\n",
       "    <tr style=\"text-align: right;\">\n",
       "      <th></th>\n",
       "      <th>count</th>\n",
       "    </tr>\n",
       "    <tr>\n",
       "      <th>name</th>\n",
       "      <th></th>\n",
       "    </tr>\n",
       "  </thead>\n",
       "  <tbody>\n",
       "    <tr>\n",
       "      <th>1260이베리코흑돼지 강남직영점</th>\n",
       "      <td>1</td>\n",
       "    </tr>\n",
       "    <tr>\n",
       "      <th>24시와구아구</th>\n",
       "      <td>1</td>\n",
       "    </tr>\n",
       "    <tr>\n",
       "      <th>60년전통 신촌황소곱창 선릉직영점</th>\n",
       "      <td>1</td>\n",
       "    </tr>\n",
       "    <tr>\n",
       "      <th>7%칠백식당 포스코직영점</th>\n",
       "      <td>1</td>\n",
       "    </tr>\n",
       "    <tr>\n",
       "      <th>705사케집 선릉점</th>\n",
       "      <td>1</td>\n",
       "    </tr>\n",
       "    <tr>\n",
       "      <th>...</th>\n",
       "      <td>...</td>\n",
       "    </tr>\n",
       "    <tr>\n",
       "      <th>후웨이즈텐카민</th>\n",
       "      <td>1</td>\n",
       "    </tr>\n",
       "    <tr>\n",
       "      <th>후지</th>\n",
       "      <td>1</td>\n",
       "    </tr>\n",
       "    <tr>\n",
       "      <th>흑돈가 삼성역점</th>\n",
       "      <td>1</td>\n",
       "    </tr>\n",
       "    <tr>\n",
       "      <th>희 카롱</th>\n",
       "      <td>1</td>\n",
       "    </tr>\n",
       "    <tr>\n",
       "      <th>히라이 선릉점</th>\n",
       "      <td>1</td>\n",
       "    </tr>\n",
       "  </tbody>\n",
       "</table>\n",
       "<p>504 rows × 1 columns</p>\n",
       "</div>"
      ],
      "text/plain": [
       "                    count\n",
       "name                     \n",
       "1260이베리코흑돼지 강남직영점       1\n",
       "24시와구아구                 1\n",
       "60년전통 신촌황소곱창 선릉직영점      1\n",
       "7%칠백식당 포스코직영점           1\n",
       "705사케집 선릉점              1\n",
       "...                   ...\n",
       "후웨이즈텐카민                 1\n",
       "후지                      1\n",
       "흑돈가 삼성역점                1\n",
       "희 카롱                    1\n",
       "히라이 선릉점                 1\n",
       "\n",
       "[504 rows x 1 columns]"
      ]
     },
     "metadata": {},
     "execution_count": 7
    }
   ],
   "metadata": {}
  },
  {
   "cell_type": "code",
   "execution_count": 8,
   "source": [
    "all_count.value_counts()"
   ],
   "outputs": [
    {
     "output_type": "execute_result",
     "data": {
      "text/plain": [
       "count\n",
       "1        318\n",
       "2        112\n",
       "3         48\n",
       "4         26\n",
       "dtype: int64"
      ]
     },
     "metadata": {},
     "execution_count": 8
    }
   ],
   "metadata": {}
  },
  {
   "cell_type": "code",
   "execution_count": 9,
   "source": [
    "review_only_one = all_count[all_count[\"count\"] == 1]\n",
    "name_only_one_list = set(review_only_one.index)\n",
    "print(name_only_one_list, len(name_only_one_list))"
   ],
   "outputs": [
    {
     "output_type": "stream",
     "name": "stdout",
     "text": [
      "{'지구당 역삼두꺼비빌딩점', '고반식당 삼성점', '우리집', '순남시래기 역삼점', '우노', '원조양평해장국', '베이징코야 역삼동점', '무리무리', '이가네양꼬치 선릉점', '파리바게뜨 선릉진선점', '스미즈', '행복김밥', '네모오징어 선릉점', '수다 삼성2호점', '제주보쌈아강족발 선릉점', '우시야 역삼점', '호타루 선릉점', '올툰24시만화카페 선릉점', '아야진생태찌개 본점', '맘스터치 강남선릉점', '던킨도너츠 선릉역점', '바른치킨 강남선릉점', '맷카페', '전주순대국', '제주삼육돈 선릉직영점', '선릉가든', '꽃새우영번지 역삼점', '플로팅 L7강남점', '보노보노플러스 삼성점', '해우리 선릉L7점', '카페레꼴뜨', '곰바위', '마녀김밥 대치점', '생활맥주 선릉역점', '쟈르뎅페르뒤', '여수동촌 대치점', '이대성의진면목', '사주테라피', '전주콩나물국밥', '24시와구아구', '원조한방정통삼계탕', '몰트바 배럴', '나따오비까 대치점', '낭만옵빠 선릉점', '신강양꼬치 선릉점', '할리스 선릉샹제리제점', '백운봉막국수 본점', '담뿍화로된장찌개 대치점', '빽다방 선릉역1호점', '교대이층집 선릉점', '영동떡볶이', '히라이 선릉점', '노가리슈퍼 선릉점', '구이마마 대치점', '박서방순대국밥 삼성본점', '대파집', '벽돌집60-5', '빽다방 선릉중앙점', '분틀 선릉점', '멜로워 역삼더퍼스트', '예천 유산균한우정육타운', '스타벅스 삼성점', 'JVL부대찌개 포스코점', '옛날농장', '김태완스시', '고메램 삼성점', '나무', '아오끼', '삼백집 역삼역점', '카메스시', '오더에스프레소', '신도세기 선릉점', '이백 역삼점', '선릉궁중갈비탕곰탕', '마노디셰프 삼성점', '바우한우', '이도곰탕 본점', '김양', '코이라멘 한티역점', '명가교동짬뽕 선릉2호점', '수림복국 본관', '스시류', '쇠뚜레', '1260이베리코흑돼지 강남직영점', '대치정육식당 본점', '오성식당', '파크루안 역삼점', '커피빈 선릉로93길점', '강남본가가마골', '고기고샵 삼성역점', '전통백암순대국 삼성점', '우밀가 안동국시 선릉점', '우밀면옥 상록점', '더차이나', '호신각', '밀도 한티역점', '선릉본가 쭈꾸미와대패삼겹', '대찬횟집', '지구당 현대타워점', '동해식당', '브루클린더버거조인트 삼성점', '어람촌', '피양콩할마니 본점', '마구로젠', '그란구스또', '정통원조한방삼계탕', '강남샤오츠', '금수복국 대치점', '강남묵호등대', '더차이홍 삼성점', '쫀득이족발', '시골빈대떡파전 선릉본점', '스타벅스 르네상스사거리점', '동대문엽기떡볶이 대치점', '용수사', '도원', '카페413프로젝트', '이태리부대찌개 선릉직영점', '미즈호노 스시야 대치점', '봉우리 역삼본점', '카페봄', '커피빈 선릉역3번출구세방빌딩점', '배스킨라빈스 대치점', '멍텅구리꼼장어막창 삼성동본점', '희 카롱', '볼빨간딱새우', '사까나야바로바로 선릉점', '커피빈 선릉로86길점', '선릉루킹래징', '김영태스시앤사시미마을 강남본점', '나주육곱식당 강남직영점', '레이어프로젝트', '구을가', '미성양꼬치 삼성점', '바나프레소 선정릉점', '롯데리아 선릉점', '진수사', '해초록 별채사랑방', '한가네숯불닭갈비 역삼점', '지아니스나폴리 역삼점', '스시유리', '이태리부대찌개 역삼GS점', '친친', '전가네손칼국수', '삼호복집', '이남장', '탐라도야지', '달콤한고양이 대치점', '오레노 선릉점', '사람사는고깃집김일도 선릉점', '705사케집 선릉점', '교대이층집 삼성점', '클럽케이서울', '레드비틀', '금복당', '고메고매 선릉직영점', '연스시', '누구나홀딱반한닭 선릉점', '황태마을', '남도구들한정식 본점', '인기명 삼성점', '육시리 역삼본점', '맑은바닷가', '갈맛집', '유리카모메 선릉식당', '써브웨이 삼성점', '경평면옥', '상아김밥 선릉직영점', '60년전통 신촌황소곱창 선릉직영점', '일등추어탕', '청춘화로 선릉점', '선릉을지순대국', '신도세기 삼성역점', '봉산집', '소라야', '소공순대', '새집남원추어탕', '이자카야나무 선릉점', '진가와 한국본점', '순남시래기 서울선릉점', '우가네', '설빙 선릉점', '배스킨라빈스 선릉점', '신라다랑원', '모리향', '오목집 한티점', '해담채 삼성점', '비블레스', '본죽 선릉역점', '도쿄술집 선릉역점', '복돈이가마솥순대국', 'CSI VR방탈출카페 대치선릉점', '스타벅스 선정릉역', '츄라우미 역삼본점', '리밍', '교동전선생 선릉역점', '맥도날드 강남삼성DT점', '명동피자 대치점', '포메인 선릉역점', '돼지연구소 선정릉직영점', '놀란치킨 선릉점', '카토멘 대치본점', '데쎄르룸', '진대감 역삼점', '껠끄쇼즈', '바나프레소 선릉역사거리점', '해담일식', '수담한정식', '우진가 더 챔버스', '후지', '시추안하우스 삼성점', '명인등심 삼성직영점', '신라스테이 역삼 카페', '르브런쉭 대치점', '식물원282', '항아리보쌈 선릉점', '갈비삼대참숯구이전문 강남역삼점', '시골진지상', '장쓰동', '뱅가드와인머천트 강남점', '스시쇼우키', '진대감 삼성점', '에슬로우커피 선릉2호점', '롤리폴리꼬또', '한앤둘치킨 선릉점', '딸부자네불백 역삼점', '용호낙지 강남점', '고갯마루', '붓처스컷 삼성점', '파리바게뜨 카페선릉점', '남도사계고운님', '황우양대창', '선릉설렁탕', '돝고기506', '여수오동도', '한죽그리고삼계탕 본점', '투썸플레이스 대치선릉점', '7%칠백식당 포스코직영점', '범표원두 역삼점', '일미집 강남직영점', '영덕물회', '화포식당 선릉점', '포레스트힐링카페', '춘이네닭도리탕 동생1호선릉직영점', '마담밍 선릉점', '나향반점', '부타이', '제주몬트락 한티점', '부엉이식당', '능라도 강남점', '한솥도시락 르네상스호텔사거리점', '이가네양꼬치 대치동점', '신전떡볶이 대치점', '파리바게뜨 선릉아이타워점', '엔제리너스 선릉골드로즈점', '오징어청춘 대치본점', '문배동육칼 삼성직영점', '아우어베이커리 싸이더스점', '마라공방 역삼점', '써브웨이 선릉점', '브롱스 선릉점', '도마다리뼈다귀감자탕', '윤가 역삼점', '칠백식당 삼성직영점', '싸리골', '마부육전 선릉직영점', '난만', '우리집만두 선릉점', '대우부대찌개', '일일향 삼성점', '싸프란겔', '바게트K', '란수사', '마초갈비 선릉역점', '백수산', '사람사는 고깃집 김일도 삼성코엑스점', '로얄마카롱', '개그맨정용국의용곱창', '맥주를듣는사람들 아크 선릉점', '보름쇠 삼성점', '청담동장독대 김치찌개', '카페베네 선릉역점', '스타벅스 선릉로점', '88노가리 선릉본점', '타코벨 선릉점', '천사의섬', '강정희간장새우', '스타벅스 선릉역점', '다노이 선릉점', '후웨이즈텐카민', '삼다족발', '팀호완 삼성점', '남산노포식당 선릉본점', '대독장 역삼점', '삼육가 삼성역점', '불이아 역삼점', '기네스하우스', '초가집삼계탕', '피쉬스타 역삼점', '카페인더시티', '파이어벨 대치점', '투썸플레이스 선릉ING점', '젠제로', '흑돈가 삼성역점', '호또치킨 강남본점', '최가네버섯샤브매운탕칼국수 대치점', '타이거슈가 삼성로점', '르플로우', '신동궁감자탕뼈숯불구이 선릉직영점', '살루쪼', '큰돈가', '에드빗커피', '뚜레쥬르 카페선릉역점', '에그드랍 선릉역점', '김태주선산곱창 강남점', '로네펠트', '강남면옥 대치점', '버거킹 선릉역점(2021년10월27일까지 휴업)'} 318\n"
     ]
    }
   ],
   "metadata": {}
  },
  {
   "cell_type": "code",
   "execution_count": 10,
   "source": [
    "review_more_two = all_count[all_count[\"count\"] != 1]\n",
    "name_set = set(review_more_two.index)\n",
    "# ss_name_list = list(ss_names.intersection(name_list))\n",
    "# k_name_list = list(k_names.intersection(name_list))\n",
    "# m_name_list = list(m_names.intersection(name_list))\n",
    "print(name_set, len(name_set))"
   ],
   "outputs": [
    {
     "output_type": "stream",
     "name": "stdout",
     "text": [
      "{'본죽&비빔밥cafe 선릉점', '도쿄등심 선릉점', '지유가오카핫초메 선릉점', '채린', '트라토리아모로', '맥도날드 선릉점', '쌍룡갈비', '비언유주얼', '카페레이어스튜디오', '대파양곱창', '동해수산', '홍백', '이디야커피 선릉역점', '마초야', '반룡산', '강남수랏간', '브라운돈까스 선릉점', '하동관 강남분점', '해피해피케이크', '쇼유식당', '선릉양조장족발', '진풍정 강남점', '하얼빈가정식 본점', '동보성 강남점', '어반81', '참치공간', '바스버거 선릉점', '정참치', '하루', '이승재참치', '연', '아야커피', '통영집', '화수사', '모범떡볶이1976 선릉점', '맛있는제주', '빌리엔젤 신라스테이점', '돈그리아', '뚝심한우 선릉역점', '부산양곱창', '대도식당 삼성점', '곰작골나주곰탕 선릉점', '커피마마퀸 선릉점', '보영만두 선릉점', '장정정', '고반식당 선릉점', '조인바이트', '오마치슌', '수다 대치점', '샹베리', '커리146 강남점', '국고집', '아리양', '애니홀', '외고집설렁탕', '유하제과', '하오', '청춘어람', '서래향', '스시마이우 선릉역점', '창고43 역삼점', '별양집', '스타벅스 선릉세화빌딩점', '수라선 역삼점', '재패니즈다이닝안심', '풍년집 선릉점', '샐러디 선릉점', '조개천국', '잼라운지', '마라테이블', '동래정 선릉직영점', '삼미대포 선릉점', '선릉순대국', '한미옥', '홍대포', '진대감 선릉점', '청국장서갈비', '고메홈', '군자대한곱창 선릉점', '샤오바오우육면', '치찌중화식탁', '광주식당', '기세끼 선릉점', '원조광양불고기 삼성점', '광수사', '대치동집', '차호랑', '고운님한우곱창', '문어랑 상록점', '블랙랩', '조개사냥', '경천애인2237', '모찌방', '미트앤번버거샵 강남점', '세드라', '자유참치', '두레국수', '카츠젠 선릉점', '큰입아구찜', '더피자스탠드', '일미리금계찜닭 선릉점', '쏭타이 역삼점', '명랑회관 선릉점', '테라로사 포스코센터점', '하남돼지집 선릉1호점', '청자골', '가나돈까스의집', '양가식당', '스시노스시', '슐미랭삼 선릉점', '신흥정육식당', '천용', '라피자노스트라', '카페그라노', '겐비이자카야', '잇쇼우', '등촌샤브칼국수 선릉점', '어메이징타이', '스시산원', '스타벅스 선릉동신빌딩R점', '칠랑고', '니뽕내뽕 선릉점', '달빛보쌈 논현점', '스노우폭스 선릉역점', '버드나무집 역삼점', '그릴1492 삼성1호점', '라무진 선릉역점', '의령전원', '투썸플레이스 테헤란선릉역점', '스시소라', '별미곳간', '세광양대창 선릉점', '아카라', '연타발 선릉점', '판동면옥', '해장옥', '알로이타이', '황금어장', '미쓰양꼬치', '코르바니', '육시리 선릉점', '미랑', '평가옥 삼성점', '무한장어 역삼점', '참치그라', '가연', '청춘닭볶이', '카발', '어로장', '하오마라 선릉점', '한성양꼬치 선릉2호점', '오징어풍경', '장진참치', '우밀가 대치본점', '비야게레로', '김봉남포장마차 선릉점', '오또상스시', '뽕나무쟁이 선릉본점', '센도수산', '로브니', '김돈이 본점', '남원추어탕', '포하임 선릉점', '메이크샐러드 선릉점', '빌리앤오티스', '반포식스 선릉역점', '삼성동커피볶는집', '북창동순두부 선릉2호점', '오카에리', '코벤트가든 선릉점', '한성양갈비구이', '인평일등추어탕', '참치공방 선릉점', '예향', '몰타참치', '우마쿠라', '전봇대', '잭슨피자 대치점', '농민백암순대 본점', '마라차이즈', '제주은희네해장국 선릉직영점', '스시키'} 182\n"
     ]
    }
   ],
   "metadata": {}
  },
  {
   "cell_type": "code",
   "execution_count": 11,
   "source": [
    "review_more_two = all_count[all_count[\"count\"] != 1]\n",
    "name_list = list(review_more_two.index)\n",
    "# ss_name_list = list(ss_names.intersection(name_list))\n",
    "# k_name_list = list(k_names.intersection(name_list))\n",
    "# m_name_list = list(m_names.intersection(name_list))\n",
    "print(name_list, len(name_list))"
   ],
   "outputs": [
    {
     "output_type": "stream",
     "name": "stdout",
     "text": [
      "['가나돈까스의집', '가연', '강남수랏간', '겐비이자카야', '경천애인2237', '고메홈', '고반식당 선릉점', '고운님한우곱창', '곰작골나주곰탕 선릉점', '광수사', '광주식당', '국고집', '군자대한곱창 선릉점', '그릴1492 삼성1호점', '기세끼 선릉점', '김돈이 본점', '김봉남포장마차 선릉점', '남원추어탕', '농민백암순대 본점', '니뽕내뽕 선릉점', '달빛보쌈 논현점', '대도식당 삼성점', '대치동집', '대파양곱창', '더피자스탠드', '도쿄등심 선릉점', '도쿄등심 선릉점', '돈그리아', '동래정 선릉직영점', '동보성 강남점', '동해수산', '두레국수', '등촌샤브칼국수 선릉점', '뚝심한우 선릉역점', '라무진 선릉역점', '라피자노스트라', '로브니', '마라차이즈', '마라테이블', '마초야', '맛있는제주', '맥도날드 선릉점', '메이크샐러드 선릉점', '명랑회관 선릉점', '모범떡볶이1976 선릉점', '모찌방', '몰타참치', '무한장어 역삼점', '문어랑 상록점', '문어랑 상록점', '미랑', '미랑', '미쓰양꼬치', '미트앤번버거샵 강남점', '바스버거 선릉점', '반룡산', '반포식스 선릉역점', '버드나무집 역삼점', '별미곳간', '별양집', '별양집', '보영만두 선릉점', '본죽&비빔밥cafe 선릉점', '부산양곱창', '북창동순두부 선릉2호점', '브라운돈까스 선릉점', '블랙랩', '비야게레로', '비언유주얼', '빌리앤오티스', '빌리엔젤 신라스테이점', '뽕나무쟁이 선릉본점', '삼미대포 선릉점', '삼성동커피볶는집', '샐러디 선릉점', '샤오바오우육면', '샹베리', '서래향', '선릉순대국', '선릉양조장족발', '세광양대창 선릉점', '세드라', '센도수산', '쇼유식당', '수다 대치점', '수라선 역삼점', '슐미랭삼 선릉점', '스노우폭스 선릉역점', '스시노스시', '스시마이우 선릉역점', '스시산원', '스시소라', '스시키', '스타벅스 선릉동신빌딩R점', '스타벅스 선릉세화빌딩점', '신흥정육식당', '쌍룡갈비', '쏭타이 역삼점', '아리양', '아야커피', '아카라', '알로이타이', '애니홀', '양가식당', '어로장', '어메이징타이', '어반81', '연', '연타발 선릉점', '예향', '오또상스시', '오마치슌', '오징어풍경', '오카에리', '외고집설렁탕', '우마쿠라', '우밀가 대치본점', '원조광양불고기 삼성점', '유하제과', '육시리 선릉점', '의령전원', '이디야커피 선릉역점', '이승재참치', '인평일등추어탕', '일미리금계찜닭 선릉점', '잇쇼우', '자유참치', '장정정', '장진참치', '재패니즈다이닝안심', '잭슨피자 대치점', '잼라운지', '전봇대', '정참치', '제주은희네해장국 선릉직영점', '조개사냥', '조개천국', '조인바이트', '지유가오카핫초메 선릉점', '진대감 선릉점', '진풍정 강남점', '차호랑', '참치공간', '참치공방 선릉점', '참치그라', '창고43 역삼점', '채린', '천용', '청국장서갈비', '청자골', '청춘닭볶이', '청춘어람', '치찌중화식탁', '칠랑고', '카발', '카츠젠 선릉점', '카페그라노', '카페레이어스튜디오', '커리146 강남점', '커피마마퀸 선릉점', '코르바니', '코벤트가든 선릉점', '큰입아구찜', '테라로사 포스코센터점', '통영집', '투썸플레이스 테헤란선릉역점', '트라토리아모로', '판동면옥', '평가옥 삼성점', '포하임 선릉점', '풍년집 선릉점', '하남돼지집 선릉1호점', '하동관 강남분점', '하루', '하얼빈가정식 본점', '하오', '하오마라 선릉점', '한미옥', '한성양갈비구이', '한성양꼬치 선릉2호점', '해장옥', '해피해피케이크', '홍대포', '홍백', '화수사', '황금어장'] 186\n"
     ]
    }
   ],
   "metadata": {}
  },
  {
   "cell_type": "code",
   "execution_count": 12,
   "source": [
    "name_list = sorted(list(name_set))"
   ],
   "outputs": [],
   "metadata": {}
  },
  {
   "cell_type": "markdown",
   "source": [
    "# 2개 이상의 플랫폼에서 리뷰가 존재하는 리뷰만 모으기"
   ],
   "metadata": {}
  },
  {
   "cell_type": "code",
   "execution_count": 13,
   "source": [
    "k_review = k_review[k_review[\"name\"].isin(name_list)]\n",
    "print(k_review.info())\n",
    "k_review[\"name\"].nunique()"
   ],
   "outputs": [
    {
     "output_type": "stream",
     "name": "stdout",
     "text": [
      "<class 'pandas.core.frame.DataFrame'>\n",
      "Int64Index: 3015 entries, 0 to 7085\n",
      "Data columns (total 5 columns):\n",
      " #   Column       Non-Null Count  Dtype \n",
      "---  ------       --------------  ----- \n",
      " 0   platform     3015 non-null   object\n",
      " 1   name         3015 non-null   object\n",
      " 2   rating       3015 non-null   int64 \n",
      " 3   rating_date  3015 non-null   object\n",
      " 4   comment      3015 non-null   object\n",
      "dtypes: int64(1), object(4)\n",
      "memory usage: 141.3+ KB\n",
      "None\n"
     ]
    },
    {
     "output_type": "execute_result",
     "data": {
      "text/plain": [
       "182"
      ]
     },
     "metadata": {},
     "execution_count": 13
    }
   ],
   "metadata": {}
  },
  {
   "cell_type": "code",
   "execution_count": 14,
   "source": [
    "ss_review = ss_review[ss_review[\"name\"].isin(name_list)]\n",
    "print(ss_review.info())\n",
    "ss_review[\"name\"].nunique()"
   ],
   "outputs": [
    {
     "output_type": "stream",
     "name": "stdout",
     "text": [
      "<class 'pandas.core.frame.DataFrame'>\n",
      "Int64Index: 1197 entries, 4 to 2041\n",
      "Data columns (total 4 columns):\n",
      " #   Column    Non-Null Count  Dtype \n",
      "---  ------    --------------  ----- \n",
      " 0   platform  1197 non-null   object\n",
      " 1   name      1197 non-null   object\n",
      " 2   rating    1197 non-null   object\n",
      " 3   comment   1197 non-null   object\n",
      "dtypes: object(4)\n",
      "memory usage: 46.8+ KB\n",
      "None\n"
     ]
    },
    {
     "output_type": "execute_result",
     "data": {
      "text/plain": [
       "54"
      ]
     },
     "metadata": {},
     "execution_count": 14
    }
   ],
   "metadata": {}
  },
  {
   "cell_type": "code",
   "execution_count": 15,
   "source": [
    "m_review = m_review[m_review[\"name\"].isin(name_list)]\n",
    "print(m_review.info())\n",
    "m_review[\"name\"].nunique()"
   ],
   "outputs": [
    {
     "output_type": "stream",
     "name": "stdout",
     "text": [
      "<class 'pandas.core.frame.DataFrame'>\n",
      "Int64Index: 910 entries, 0 to 2922\n",
      "Data columns (total 4 columns):\n",
      " #   Column       Non-Null Count  Dtype \n",
      "---  ------       --------------  ----- \n",
      " 0   name         910 non-null    object\n",
      " 1   rating_date  910 non-null    object\n",
      " 2   comment      910 non-null    object\n",
      " 3   rating       910 non-null    int64 \n",
      "dtypes: int64(1), object(3)\n",
      "memory usage: 35.5+ KB\n",
      "None\n"
     ]
    },
    {
     "output_type": "execute_result",
     "data": {
      "text/plain": [
       "62"
      ]
     },
     "metadata": {},
     "execution_count": 15
    }
   ],
   "metadata": {}
  },
  {
   "cell_type": "code",
   "execution_count": 16,
   "source": [
    "n_review = n_review[n_review[\"name\"].isin(name_list)]\n",
    "print(n_review.info())\n",
    "n_review[\"name\"].nunique()"
   ],
   "outputs": [
    {
     "output_type": "stream",
     "name": "stdout",
     "text": [
      "<class 'pandas.core.frame.DataFrame'>\n",
      "Int64Index: 13203 entries, 51 to 20972\n",
      "Data columns (total 4 columns):\n",
      " #   Column       Non-Null Count  Dtype  \n",
      "---  ------       --------------  -----  \n",
      " 0   name         13203 non-null  object \n",
      " 1   rating_date  13203 non-null  object \n",
      " 2   comment      12946 non-null  object \n",
      " 3   rating       13203 non-null  float64\n",
      "dtypes: float64(1), object(3)\n",
      "memory usage: 515.7+ KB\n",
      "None\n"
     ]
    },
    {
     "output_type": "execute_result",
     "data": {
      "text/plain": [
       "76"
      ]
     },
     "metadata": {},
     "execution_count": 16
    }
   ],
   "metadata": {}
  },
  {
   "cell_type": "markdown",
   "source": [
    "# 메뉴 종류 파악해보기"
   ],
   "metadata": {}
  },
  {
   "cell_type": "code",
   "execution_count": 17,
   "source": [
    "os.chdir('../kakao')\n",
    "menus = pd.read_csv(\"kakao_restaurant_menu.csv\", header=0, names=[\"name\",\"menu\"], usecols=[1, 2])\n",
    "\n",
    "os.chdir(\"../data_analysis\")\n",
    "menus = menus[menus[\"name\"].isin(name_list)]\n",
    "\n",
    "# menu 누락 식당 - ['고운님한우곱창', '등촌샤브칼국수 선릉점', '명랑회관 선릉점','본죽&비빔밥cafe 선릉점', '쇼유식당',  '예향', '오또상스시', '원조광양불고기 삼성점', '유하제과', '코르바니', '하남돼지집 선릉1호점', ]\n",
    "print(sorted(list(menus[\"name\"].unique())))"
   ],
   "outputs": [
    {
     "output_type": "stream",
     "name": "stdout",
     "text": [
      "['가나돈까스의집', '가연', '강남수랏간', '겐비이자카야', '경천애인2237', '고메홈', '고반식당 선릉점', '곰작골나주곰탕 선릉점', '광수사', '광주식당', '국고집', '군자대한곱창 선릉점', '그릴1492 삼성1호점', '기세끼 선릉점', '김돈이 본점', '김봉남포장마차 선릉점', '남원추어탕', '농민백암순대 본점', '니뽕내뽕 선릉점', '달빛보쌈 논현점', '대도식당 삼성점', '대치동집', '대파양곱창', '더피자스탠드', '도쿄등심 선릉점', '돈그리아', '동래정 선릉직영점', '동보성 강남점', '동해수산', '두레국수', '뚝심한우 선릉역점', '라무진 선릉역점', '라피자노스트라', '로브니', '마라차이즈', '마라테이블', '마초야', '맛있는제주', '맥도날드 선릉점', '메이크샐러드 선릉점', '모범떡볶이1976 선릉점', '모찌방', '몰타참치', '무한장어 역삼점', '문어랑 상록점', '미랑', '미쓰양꼬치', '미트앤번버거샵 강남점', '바스버거 선릉점', '반룡산', '반포식스 선릉역점', '버드나무집 역삼점', '별미곳간', '별양집', '보영만두 선릉점', '부산양곱창', '북창동순두부 선릉2호점', '브라운돈까스 선릉점', '블랙랩', '비야게레로', '비언유주얼', '빌리앤오티스', '빌리엔젤 신라스테이점', '뽕나무쟁이 선릉본점', '삼미대포 선릉점', '삼성동커피볶는집', '샐러디 선릉점', '샤오바오우육면', '샹베리', '서래향', '선릉순대국', '선릉양조장족발', '세광양대창 선릉점', '세드라', '센도수산', '수다 대치점', '수라선 역삼점', '슐미랭삼 선릉점', '스노우폭스 선릉역점', '스시노스시', '스시마이우 선릉역점', '스시산원', '스시소라', '스시키', '스타벅스 선릉동신빌딩R점', '스타벅스 선릉세화빌딩점', '신흥정육식당', '쌍룡갈비', '쏭타이 역삼점', '아리양', '아야커피', '아카라', '알로이타이', '애니홀', '양가식당', '어로장', '어메이징타이', '어반81', '연', '연타발 선릉점', '오마치슌', '오징어풍경', '오카에리', '외고집설렁탕', '우마쿠라', '우밀가 대치본점', '육시리 선릉점', '의령전원', '이디야커피 선릉역점', '이승재참치', '인평일등추어탕', '일미리금계찜닭 선릉점', '잇쇼우', '자유참치', '장정정', '장진참치', '재패니즈다이닝안심', '잭슨피자 대치점', '잼라운지', '전봇대', '정참치', '제주은희네해장국 선릉직영점', '조개사냥', '조개천국', '조인바이트', '지유가오카핫초메 선릉점', '진대감 선릉점', '진풍정 강남점', '차호랑', '참치공간', '참치공방 선릉점', '참치그라', '창고43 역삼점', '채린', '천용', '청국장서갈비', '청자골', '청춘닭볶이', '청춘어람', '치찌중화식탁', '칠랑고', '카발', '카츠젠 선릉점', '카페그라노', '카페레이어스튜디오', '커리146 강남점', '커피마마퀸 선릉점', '코벤트가든 선릉점', '큰입아구찜', '테라로사 포스코센터점', '통영집', '투썸플레이스 테헤란선릉역점', '트라토리아모로', '판동면옥', '평가옥 삼성점', '포하임 선릉점', '풍년집 선릉점', '하동관 강남분점', '하루', '하얼빈가정식 본점', '하오', '하오마라 선릉점', '한미옥', '한성양갈비구이', '한성양꼬치 선릉2호점', '해장옥', '해피해피케이크', '홍대포', '홍백', '화수사', '황금어장']\n"
     ]
    }
   ],
   "metadata": {}
  },
  {
   "cell_type": "code",
   "execution_count": 18,
   "source": [
    "menus.info()"
   ],
   "outputs": [
    {
     "output_type": "stream",
     "name": "stdout",
     "text": [
      "<class 'pandas.core.frame.DataFrame'>\n",
      "Int64Index: 1150 entries, 0 to 3181\n",
      "Data columns (total 2 columns):\n",
      " #   Column  Non-Null Count  Dtype \n",
      "---  ------  --------------  ----- \n",
      " 0   name    1150 non-null   object\n",
      " 1   menu    1150 non-null   object\n",
      "dtypes: object(2)\n",
      "memory usage: 27.0+ KB\n"
     ]
    }
   ],
   "metadata": {}
  },
  {
   "cell_type": "code",
   "execution_count": 19,
   "source": [
    "menus[\"menu\"] = menus.menu.str.split(\"(\").str[0].str.strip(\" \")\n",
    "menus.drop_duplicates(inplace=True)\n",
    "print(menus[\"menu\"].nunique())\n",
    "menus.info()"
   ],
   "outputs": [
    {
     "output_type": "stream",
     "name": "stdout",
     "text": [
      "966\n",
      "<class 'pandas.core.frame.DataFrame'>\n",
      "Int64Index: 1097 entries, 0 to 3181\n",
      "Data columns (total 2 columns):\n",
      " #   Column  Non-Null Count  Dtype \n",
      "---  ------  --------------  ----- \n",
      " 0   name    1097 non-null   object\n",
      " 1   menu    1097 non-null   object\n",
      "dtypes: object(2)\n",
      "memory usage: 25.7+ KB\n"
     ]
    }
   ],
   "metadata": {}
  },
  {
   "cell_type": "code",
   "execution_count": 20,
   "source": [
    "print(menus[\"menu\"].nunique())"
   ],
   "outputs": [
    {
     "output_type": "stream",
     "name": "stdout",
     "text": [
      "966\n"
     ]
    }
   ],
   "metadata": {}
  },
  {
   "cell_type": "code",
   "execution_count": 21,
   "source": [
    "menus.value_counts()"
   ],
   "outputs": [
    {
     "output_type": "execute_result",
     "data": {
      "text/plain": [
       "name     menu    \n",
       "가나돈까스의집  돈까스         1\n",
       "외고집설렁탕   도가니탕        1\n",
       "우마쿠라     사케벤또        1\n",
       "         매운삼겹 전복찜    1\n",
       "외고집설렁탕   육개장         1\n",
       "                    ..\n",
       "부산양곱창    된장찌개        1\n",
       "         야콘냉면        1\n",
       "         양구이         1\n",
       "         양김치볶음밥      1\n",
       "황금어장     알탕          1\n",
       "Length: 1097, dtype: int64"
      ]
     },
     "metadata": {},
     "execution_count": 21
    }
   ],
   "metadata": {}
  },
  {
   "cell_type": "code",
   "execution_count": null,
   "source": [],
   "outputs": [],
   "metadata": {}
  },
  {
   "cell_type": "code",
   "execution_count": 22,
   "source": [
    "from collections import Counter\n",
    "from wordcloud import WordCloud,STOPWORDS\n",
    "from konlpy.tag import Okt\n",
    "import matplotlib.pyplot as plt\n",
    "\n",
    "%matplotlib inline\n",
    "okt = Okt()"
   ],
   "outputs": [
    {
     "output_type": "stream",
     "name": "stdout",
     "text": [
      "[0.024s][warning][os,thread] Attempt to protect stack guard pages failed (0x000000016d0ec000-0x000000016d0f8000).\n",
      "[0.024s][warning][os,thread] Attempt to deallocate stack guard pages failed.\n"
     ]
    }
   ],
   "metadata": {}
  },
  {
   "cell_type": "code",
   "execution_count": 23,
   "source": [
    "words = okt.pos('한국어분석 스타트해보실까나?')\n",
    "cnt = Counter(words)\n",
    "cnt"
   ],
   "outputs": [
    {
     "output_type": "execute_result",
     "data": {
      "text/plain": [
       "Counter({('한국어', 'Noun'): 1,\n",
       "         ('분석', 'Noun'): 1,\n",
       "         ('스타트', 'Noun'): 1,\n",
       "         ('해보실까', 'Verb'): 1,\n",
       "         ('나', 'Noun'): 1,\n",
       "         ('?', 'Punctuation'): 1})"
      ]
     },
     "metadata": {},
     "execution_count": 23
    }
   ],
   "metadata": {}
  },
  {
   "cell_type": "code",
   "execution_count": 24,
   "source": [
    "wc = WordCloud(background_color=\"#ffffff\", width=1000, height=1000, max_font_size=300, max_words=1000, font_path=\"HangeulNuriR.ttf\")"
   ],
   "outputs": [],
   "metadata": {}
  },
  {
   "cell_type": "code",
   "execution_count": 25,
   "source": [
    "test = wc.generate_from_text(str(n_review[\"comment\"]))\n",
    "plt.imshow(test)\n",
    "plt.axis(\"off\")\n",
    "plt.show()"
   ],
   "outputs": [
    {
     "output_type": "display_data",
     "data": {
      "image/png": "[encoded data removed]",
      "text/plain": [
       "<Figure size 432x288 with 1 Axes>"
      ]
     },
     "metadata": {
      "needs_background": "light"
     }
    }
   ],
   "metadata": {}
  },
  {
   "cell_type": "code",
   "execution_count": 26,
   "source": [
    "# wc.to_file(\"test.png\")"
   ],
   "outputs": [],
   "metadata": {}
  },
  {
   "cell_type": "code",
   "execution_count": null,
   "source": [],
   "outputs": [],
   "metadata": {}
  }
 ],
 "metadata": {
  "orig_nbformat": 4,
  "language_info": {
   "name": "python",
   "version": "3.9.7",
   "mimetype": "text/x-python",
   "codemirror_mode": {
    "name": "ipython",
    "version": 3
   },
   "pygments_lexer": "ipython3",
   "nbconvert_exporter": "python",
   "file_extension": ".py"
  },
  "kernelspec": {
   "name": "python3",
   "display_name": "Python 3.9.7 64-bit ('delivery': conda)"
  },
  "interpreter": {
   "hash": "46d1000c09464e93fb82c82facef9f39bd5cbe64c1a63133cf55523e5cc8c1c4"
  }
 },
 "nbformat": 4,
 "nbformat_minor": 2
}