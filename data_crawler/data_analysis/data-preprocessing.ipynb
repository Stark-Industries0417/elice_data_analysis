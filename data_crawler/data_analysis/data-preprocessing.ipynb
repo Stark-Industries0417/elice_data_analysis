{
 "cells": [
  {
   "cell_type": "markdown",
   "source": [
    "# Import DATA"
   ],
   "metadata": {}
  },
  {
   "cell_type": "code",
   "execution_count": 1,
   "source": [
    "import os\n",
    "import pandas as pd\n",
    "\n",
    "os.chdir('../siksin')\n",
    "from restaurant_url import sikshin_restaurant_url_src as siksin\n",
    "from restaurant_review import siksin_review_list\n",
    "\n",
    "ss_data = pd.DataFrame(siksin, columns=[\"name\", \"url\", \"img_url\", \"total_rating\"])\n",
    "ss_review = pd.DataFrame(siksin_review_list, columns=[\"platform\", \"name\", \"rating\", \"comment\"]).drop_duplicates()\n",
    "\n",
    "os.chdir('../kakao')\n",
    "from kakao_restaurant import kakao_list as kakao\n",
    "from kakao_restaurant_review import kakao_review_list as kakao_review\n",
    "\n",
    "k_data = pd.DataFrame(kakao, columns=[\"name\", \"category\", \"total_rating\", \"rating_count\", \"img_url\"])\n",
    "k_review = pd.DataFrame(kakao_review, columns=[\"platform\", \"name\", \"rating\", \"rating_date\", \"comment\"]).drop_duplicates()\n",
    "\n",
    "os.chdir('../mangoplate')\n",
    "\n",
    "m_data = pd.read_csv(\"mango_restaurant.csv\", header=0, names=[\"name\", \"total_rating\", \"category\", \"img_url\"])\n",
    "m_review = pd.read_csv(\"mangoplate_review.csv\", header=0, names=[\"name\", \"rating_date\", \"comment\", \"rating\"]).drop_duplicates()\n",
    "\n",
    "os.chdir('../naver')\n",
    "\n",
    "n_data = pd.read_csv(\"naver_restaurant.csv\", header=0, names=[\"name\", \"category\", \"total_rating\"], usecols=[0, 1, 2])\n",
    "n_review = pd.read_csv(\"naver_review.csv\", header=0, names=[\"name\", \"rating_date\", \"comment\", \"rating\"])\n",
    "n_review = n_review.append(pd.read_csv(\"naver_review_by_tab.csv\", header=0, names=[\"name\", \"rating_date\", \"comment\", \"rating\"], sep=\"\\t\"), ignore_index=True).drop_duplicates()\n",
    "\n",
    "os.chdir(\"../data_analysis\")\n",
    "\n",
    "ss_data[\"platform\"] = \"siksin\"\n",
    "n_data[\"platform\"] = \"naver\"\n",
    "k_data[\"platform\"] = \"kakao\"\n",
    "m_data[\"platform\"] = \"mango\"\n",
    "\n",
    "display(k_review.info(), ss_review.info(), m_review.info(), n_review.info(), ss_data.head(1), k_data.head(1), m_data.head(1), n_data.head(1), n_review.head(1))"
   ],
   "outputs": [
    {
     "output_type": "stream",
     "name": "stdout",
     "text": [
      "<class 'pandas.core.frame.DataFrame'>\n",
      "Int64Index: 7214 entries, 0 to 7219\n",
      "Data columns (total 5 columns):\n",
      " #   Column       Non-Null Count  Dtype \n",
      "---  ------       --------------  ----- \n",
      " 0   platform     7214 non-null   object\n",
      " 1   name         7214 non-null   object\n",
      " 2   rating       7214 non-null   int64 \n",
      " 3   rating_date  7214 non-null   object\n",
      " 4   comment      7214 non-null   object\n",
      "dtypes: int64(1), object(4)\n",
      "memory usage: 338.2+ KB\n",
      "<class 'pandas.core.frame.DataFrame'>\n",
      "Int64Index: 1963 entries, 0 to 2041\n",
      "Data columns (total 4 columns):\n",
      " #   Column    Non-Null Count  Dtype \n",
      "---  ------    --------------  ----- \n",
      " 0   platform  1963 non-null   object\n",
      " 1   name      1963 non-null   object\n",
      " 2   rating    1963 non-null   object\n",
      " 3   comment   1963 non-null   object\n",
      "dtypes: object(4)\n",
      "memory usage: 76.7+ KB\n",
      "<class 'pandas.core.frame.DataFrame'>\n",
      "Int64Index: 2917 entries, 0 to 2922\n",
      "Data columns (total 4 columns):\n",
      " #   Column       Non-Null Count  Dtype \n",
      "---  ------       --------------  ----- \n",
      " 0   name         2917 non-null   object\n",
      " 1   rating_date  2917 non-null   object\n",
      " 2   comment      2917 non-null   object\n",
      " 3   rating       2917 non-null   int64 \n",
      "dtypes: int64(1), object(3)\n",
      "memory usage: 113.9+ KB\n",
      "<class 'pandas.core.frame.DataFrame'>\n",
      "Int64Index: 17660 entries, 0 to 21032\n",
      "Data columns (total 4 columns):\n",
      " #   Column       Non-Null Count  Dtype  \n",
      "---  ------       --------------  -----  \n",
      " 0   name         17660 non-null  object \n",
      " 1   rating_date  17660 non-null  object \n",
      " 2   comment      17285 non-null  object \n",
      " 3   rating       17660 non-null  float64\n",
      "dtypes: float64(1), object(3)\n",
      "memory usage: 689.8+ KB\n"
     ]
    },
    {
     "output_type": "display_data",
     "data": {
      "text/plain": [
       "None"
      ]
     },
     "metadata": {}
    },
    {
     "output_type": "display_data",
     "data": {
      "text/plain": [
       "None"
      ]
     },
     "metadata": {}
    },
    {
     "output_type": "display_data",
     "data": {
      "text/plain": [
       "None"
      ]
     },
     "metadata": {}
    },
    {
     "output_type": "display_data",
     "data": {
      "text/plain": [
       "None"
      ]
     },
     "metadata": {}
    },
    {
     "output_type": "display_data",
     "data": {
      "text/html": [
       "<div>\n",
       "<style scoped>\n",
       "    .dataframe tbody tr th:only-of-type {\n",
       "        vertical-align: middle;\n",
       "    }\n",
       "\n",
       "    .dataframe tbody tr th {\n",
       "        vertical-align: top;\n",
       "    }\n",
       "\n",
       "    .dataframe thead th {\n",
       "        text-align: right;\n",
       "    }\n",
       "</style>\n",
       "<table border=\"1\" class=\"dataframe\">\n",
       "  <thead>\n",
       "    <tr style=\"text-align: right;\">\n",
       "      <th></th>\n",
       "      <th>name</th>\n",
       "      <th>url</th>\n",
       "      <th>img_url</th>\n",
       "      <th>total_rating</th>\n",
       "      <th>platform</th>\n",
       "    </tr>\n",
       "  </thead>\n",
       "  <tbody>\n",
       "    <tr>\n",
       "      <th>0</th>\n",
       "      <td>하남돼지집 선릉역삼점</td>\n",
       "      <td>https://www.siksinhot.com/P/369301</td>\n",
       "      <td>https://img.siksinhot.com/place/14639799276066...</td>\n",
       "      <td>4.3</td>\n",
       "      <td>siksin</td>\n",
       "    </tr>\n",
       "  </tbody>\n",
       "</table>\n",
       "</div>"
      ],
      "text/plain": [
       "          name                                 url  \\\n",
       "0  하남돼지집 선릉역삼점  https://www.siksinhot.com/P/369301   \n",
       "\n",
       "                                             img_url total_rating platform  \n",
       "0  https://img.siksinhot.com/place/14639799276066...          4.3   siksin  "
      ]
     },
     "metadata": {}
    },
    {
     "output_type": "display_data",
     "data": {
      "text/html": [
       "<div>\n",
       "<style scoped>\n",
       "    .dataframe tbody tr th:only-of-type {\n",
       "        vertical-align: middle;\n",
       "    }\n",
       "\n",
       "    .dataframe tbody tr th {\n",
       "        vertical-align: top;\n",
       "    }\n",
       "\n",
       "    .dataframe thead th {\n",
       "        text-align: right;\n",
       "    }\n",
       "</style>\n",
       "<table border=\"1\" class=\"dataframe\">\n",
       "  <thead>\n",
       "    <tr style=\"text-align: right;\">\n",
       "      <th></th>\n",
       "      <th>name</th>\n",
       "      <th>category</th>\n",
       "      <th>total_rating</th>\n",
       "      <th>rating_count</th>\n",
       "      <th>img_url</th>\n",
       "      <th>platform</th>\n",
       "    </tr>\n",
       "  </thead>\n",
       "  <tbody>\n",
       "    <tr>\n",
       "      <th>0</th>\n",
       "      <td>뽕나무쟁이 선릉본점</td>\n",
       "      <td>족발,보쌈</td>\n",
       "      <td>4.1</td>\n",
       "      <td>111</td>\n",
       "      <td>https://place.map.kakao.com/11190567</td>\n",
       "      <td>kakao</td>\n",
       "    </tr>\n",
       "  </tbody>\n",
       "</table>\n",
       "</div>"
      ],
      "text/plain": [
       "         name category  total_rating  rating_count  \\\n",
       "0  뽕나무쟁이 선릉본점    족발,보쌈           4.1           111   \n",
       "\n",
       "                                img_url platform  \n",
       "0  https://place.map.kakao.com/11190567    kakao  "
      ]
     },
     "metadata": {}
    },
    {
     "output_type": "display_data",
     "data": {
      "text/html": [
       "<div>\n",
       "<style scoped>\n",
       "    .dataframe tbody tr th:only-of-type {\n",
       "        vertical-align: middle;\n",
       "    }\n",
       "\n",
       "    .dataframe tbody tr th {\n",
       "        vertical-align: top;\n",
       "    }\n",
       "\n",
       "    .dataframe thead th {\n",
       "        text-align: right;\n",
       "    }\n",
       "</style>\n",
       "<table border=\"1\" class=\"dataframe\">\n",
       "  <thead>\n",
       "    <tr style=\"text-align: right;\">\n",
       "      <th></th>\n",
       "      <th>name</th>\n",
       "      <th>total_rating</th>\n",
       "      <th>category</th>\n",
       "      <th>img_url</th>\n",
       "      <th>platform</th>\n",
       "    </tr>\n",
       "  </thead>\n",
       "  <tbody>\n",
       "    <tr>\n",
       "      <th>0</th>\n",
       "      <td>모찌방</td>\n",
       "      <td>4.4</td>\n",
       "      <td>카페/디저트</td>\n",
       "      <td>https://mp-seoul-image-production-s3.mangoplat...</td>\n",
       "      <td>mango</td>\n",
       "    </tr>\n",
       "  </tbody>\n",
       "</table>\n",
       "</div>"
      ],
      "text/plain": [
       "  name  total_rating category  \\\n",
       "0  모찌방           4.4   카페/디저트   \n",
       "\n",
       "                                             img_url platform  \n",
       "0  https://mp-seoul-image-production-s3.mangoplat...    mango  "
      ]
     },
     "metadata": {}
    },
    {
     "output_type": "display_data",
     "data": {
      "text/html": [
       "<div>\n",
       "<style scoped>\n",
       "    .dataframe tbody tr th:only-of-type {\n",
       "        vertical-align: middle;\n",
       "    }\n",
       "\n",
       "    .dataframe tbody tr th {\n",
       "        vertical-align: top;\n",
       "    }\n",
       "\n",
       "    .dataframe thead th {\n",
       "        text-align: right;\n",
       "    }\n",
       "</style>\n",
       "<table border=\"1\" class=\"dataframe\">\n",
       "  <thead>\n",
       "    <tr style=\"text-align: right;\">\n",
       "      <th></th>\n",
       "      <th>name</th>\n",
       "      <th>category</th>\n",
       "      <th>total_rating</th>\n",
       "      <th>platform</th>\n",
       "    </tr>\n",
       "  </thead>\n",
       "  <tbody>\n",
       "    <tr>\n",
       "      <th>0</th>\n",
       "      <td>도쿄등심 선릉점</td>\n",
       "      <td>소고기구이</td>\n",
       "      <td>4.51</td>\n",
       "      <td>naver</td>\n",
       "    </tr>\n",
       "  </tbody>\n",
       "</table>\n",
       "</div>"
      ],
      "text/plain": [
       "       name category  total_rating platform\n",
       "0  도쿄등심 선릉점    소고기구이          4.51    naver"
      ]
     },
     "metadata": {}
    },
    {
     "output_type": "display_data",
     "data": {
      "text/html": [
       "<div>\n",
       "<style scoped>\n",
       "    .dataframe tbody tr th:only-of-type {\n",
       "        vertical-align: middle;\n",
       "    }\n",
       "\n",
       "    .dataframe tbody tr th {\n",
       "        vertical-align: top;\n",
       "    }\n",
       "\n",
       "    .dataframe thead th {\n",
       "        text-align: right;\n",
       "    }\n",
       "</style>\n",
       "<table border=\"1\" class=\"dataframe\">\n",
       "  <thead>\n",
       "    <tr style=\"text-align: right;\">\n",
       "      <th></th>\n",
       "      <th>name</th>\n",
       "      <th>rating_date</th>\n",
       "      <th>comment</th>\n",
       "      <th>rating</th>\n",
       "    </tr>\n",
       "  </thead>\n",
       "  <tbody>\n",
       "    <tr>\n",
       "      <th>0</th>\n",
       "      <td>명품유쾌 강남본점</td>\n",
       "      <td>2021.09.11</td>\n",
       "      <td>NaN</td>\n",
       "      <td>5.0</td>\n",
       "    </tr>\n",
       "  </tbody>\n",
       "</table>\n",
       "</div>"
      ],
      "text/plain": [
       "        name rating_date comment  rating\n",
       "0  명품유쾌 강남본점  2021.09.11     NaN     5.0"
      ]
     },
     "metadata": {}
    }
   ],
   "metadata": {}
  },
  {
   "cell_type": "markdown",
   "source": [
    "# 2개 이상의 플랫폼에서 리뷰를 가져온 음식점 찾기"
   ],
   "metadata": {}
  },
  {
   "cell_type": "code",
   "execution_count": 2,
   "source": [
    "display(k_review[\"name\"].nunique(), ss_review[\"name\"].nunique(), m_review[\"name\"].nunique(), n_review[\"name\"].nunique())"
   ],
   "outputs": [
    {
     "output_type": "display_data",
     "data": {
      "text/plain": [
       "495"
      ]
     },
     "metadata": {}
    },
    {
     "output_type": "display_data",
     "data": {
      "text/plain": [
       "147"
      ]
     },
     "metadata": {}
    },
    {
     "output_type": "display_data",
     "data": {
      "text/plain": [
       "193"
      ]
     },
     "metadata": {}
    },
    {
     "output_type": "display_data",
     "data": {
      "text/plain": [
       "158"
      ]
     },
     "metadata": {}
    }
   ],
   "metadata": {}
  },
  {
   "cell_type": "code",
   "execution_count": 3,
   "source": [
    "print(n_review[\"name\"].nunique())"
   ],
   "outputs": [
    {
     "output_type": "stream",
     "name": "stdout",
     "text": [
      "158\n"
     ]
    }
   ],
   "metadata": {}
  },
  {
   "cell_type": "code",
   "execution_count": 4,
   "source": [
    "ss_names = set(ss_data[\"name\"])\n",
    "k_names = set(k_data[\"name\"])\n",
    "m_names = set(m_data[\"name\"])\n",
    "n_names = set(n_data[\"name\"])\n",
    "\n",
    "kn_names = k_names.union(n_names)\n",
    "print(len(list(kn_names)))\n",
    "\n",
    "knm_names = kn_names.union(m_names)\n",
    "print(len(list(knm_names)))\n",
    "\n",
    "all_names = knm_names.union(ss_names)\n",
    "print(len(list(all_names)))"
   ],
   "outputs": [
    {
     "output_type": "stream",
     "name": "stdout",
     "text": [
      "659\n",
      "782\n",
      "891\n"
     ]
    }
   ],
   "metadata": {}
  },
  {
   "cell_type": "code",
   "execution_count": 5,
   "source": [
    "ss_np = ss_data[[\"name\", \"platform\"]].set_index('name').rename(columns={\"platform\":\"ss_platform\"})\n",
    "n_np = n_data[[\"name\", \"platform\"]].set_index('name').rename(columns={\"platform\":\"n_platform\"})\n",
    "k_np = k_data[[\"name\", \"platform\"]].set_index('name').rename(columns={\"platform\":\"k_platform\"})\n",
    "m_np = m_data[[\"name\", \"platform\"]].set_index('name').rename(columns={\"platform\":\"m_platform\"})"
   ],
   "outputs": [],
   "metadata": {}
  },
  {
   "cell_type": "code",
   "execution_count": 6,
   "source": [
    "kn_np = k_np.join(n_np)\n",
    "knm_np = kn_np.join(m_np)\n",
    "all_np = knm_np.join(ss_np)\n",
    "all_np\n"
   ],
   "outputs": [
    {
     "output_type": "execute_result",
     "data": {
      "text/html": [
       "<div>\n",
       "<style scoped>\n",
       "    .dataframe tbody tr th:only-of-type {\n",
       "        vertical-align: middle;\n",
       "    }\n",
       "\n",
       "    .dataframe tbody tr th {\n",
       "        vertical-align: top;\n",
       "    }\n",
       "\n",
       "    .dataframe thead th {\n",
       "        text-align: right;\n",
       "    }\n",
       "</style>\n",
       "<table border=\"1\" class=\"dataframe\">\n",
       "  <thead>\n",
       "    <tr style=\"text-align: right;\">\n",
       "      <th></th>\n",
       "      <th>k_platform</th>\n",
       "      <th>n_platform</th>\n",
       "      <th>m_platform</th>\n",
       "      <th>ss_platform</th>\n",
       "    </tr>\n",
       "    <tr>\n",
       "      <th>name</th>\n",
       "      <th></th>\n",
       "      <th></th>\n",
       "      <th></th>\n",
       "      <th></th>\n",
       "    </tr>\n",
       "  </thead>\n",
       "  <tbody>\n",
       "    <tr>\n",
       "      <th>1260이베리코흑돼지 강남직영점</th>\n",
       "      <td>kakao</td>\n",
       "      <td>NaN</td>\n",
       "      <td>NaN</td>\n",
       "      <td>NaN</td>\n",
       "    </tr>\n",
       "    <tr>\n",
       "      <th>24시와구아구</th>\n",
       "      <td>kakao</td>\n",
       "      <td>NaN</td>\n",
       "      <td>NaN</td>\n",
       "      <td>NaN</td>\n",
       "    </tr>\n",
       "    <tr>\n",
       "      <th>60년전통 신촌황소곱창 선릉직영점</th>\n",
       "      <td>kakao</td>\n",
       "      <td>NaN</td>\n",
       "      <td>NaN</td>\n",
       "      <td>NaN</td>\n",
       "    </tr>\n",
       "    <tr>\n",
       "      <th>7%칠백식당 포스코직영점</th>\n",
       "      <td>kakao</td>\n",
       "      <td>NaN</td>\n",
       "      <td>NaN</td>\n",
       "      <td>NaN</td>\n",
       "    </tr>\n",
       "    <tr>\n",
       "      <th>705사케집 선릉점</th>\n",
       "      <td>kakao</td>\n",
       "      <td>NaN</td>\n",
       "      <td>NaN</td>\n",
       "      <td>NaN</td>\n",
       "    </tr>\n",
       "    <tr>\n",
       "      <th>...</th>\n",
       "      <td>...</td>\n",
       "      <td>...</td>\n",
       "      <td>...</td>\n",
       "      <td>...</td>\n",
       "    </tr>\n",
       "    <tr>\n",
       "      <th>후웨이즈텐카민</th>\n",
       "      <td>kakao</td>\n",
       "      <td>NaN</td>\n",
       "      <td>NaN</td>\n",
       "      <td>NaN</td>\n",
       "    </tr>\n",
       "    <tr>\n",
       "      <th>후지</th>\n",
       "      <td>kakao</td>\n",
       "      <td>NaN</td>\n",
       "      <td>NaN</td>\n",
       "      <td>NaN</td>\n",
       "    </tr>\n",
       "    <tr>\n",
       "      <th>흑돈가 삼성역점</th>\n",
       "      <td>kakao</td>\n",
       "      <td>NaN</td>\n",
       "      <td>NaN</td>\n",
       "      <td>NaN</td>\n",
       "    </tr>\n",
       "    <tr>\n",
       "      <th>희 카롱</th>\n",
       "      <td>kakao</td>\n",
       "      <td>NaN</td>\n",
       "      <td>NaN</td>\n",
       "      <td>NaN</td>\n",
       "    </tr>\n",
       "    <tr>\n",
       "      <th>히라이 선릉점</th>\n",
       "      <td>kakao</td>\n",
       "      <td>NaN</td>\n",
       "      <td>NaN</td>\n",
       "      <td>NaN</td>\n",
       "    </tr>\n",
       "  </tbody>\n",
       "</table>\n",
       "<p>504 rows × 4 columns</p>\n",
       "</div>"
      ],
      "text/plain": [
       "                   k_platform n_platform m_platform ss_platform\n",
       "name                                                           \n",
       "1260이베리코흑돼지 강남직영점       kakao        NaN        NaN         NaN\n",
       "24시와구아구                 kakao        NaN        NaN         NaN\n",
       "60년전통 신촌황소곱창 선릉직영점      kakao        NaN        NaN         NaN\n",
       "7%칠백식당 포스코직영점           kakao        NaN        NaN         NaN\n",
       "705사케집 선릉점              kakao        NaN        NaN         NaN\n",
       "...                       ...        ...        ...         ...\n",
       "후웨이즈텐카민                 kakao        NaN        NaN         NaN\n",
       "후지                      kakao        NaN        NaN         NaN\n",
       "흑돈가 삼성역점                kakao        NaN        NaN         NaN\n",
       "희 카롱                    kakao        NaN        NaN         NaN\n",
       "히라이 선릉점                 kakao        NaN        NaN         NaN\n",
       "\n",
       "[504 rows x 4 columns]"
      ]
     },
     "metadata": {},
     "execution_count": 6
    }
   ],
   "metadata": {}
  },
  {
   "cell_type": "code",
   "execution_count": 7,
   "source": [
    "all_count = pd.DataFrame(4 - all_np.isnull().sum(axis = 1), columns=[\"count\"])\n",
    "all_count"
   ],
   "outputs": [
    {
     "output_type": "execute_result",
     "data": {
      "text/html": [
       "<div>\n",
       "<style scoped>\n",
       "    .dataframe tbody tr th:only-of-type {\n",
       "        vertical-align: middle;\n",
       "    }\n",
       "\n",
       "    .dataframe tbody tr th {\n",
       "        vertical-align: top;\n",
       "    }\n",
       "\n",
       "    .dataframe thead th {\n",
       "        text-align: right;\n",
       "    }\n",
       "</style>\n",
       "<table border=\"1\" class=\"dataframe\">\n",
       "  <thead>\n",
       "    <tr style=\"text-align: right;\">\n",
       "      <th></th>\n",
       "      <th>count</th>\n",
       "    </tr>\n",
       "    <tr>\n",
       "      <th>name</th>\n",
       "      <th></th>\n",
       "    </tr>\n",
       "  </thead>\n",
       "  <tbody>\n",
       "    <tr>\n",
       "      <th>1260이베리코흑돼지 강남직영점</th>\n",
       "      <td>1</td>\n",
       "    </tr>\n",
       "    <tr>\n",
       "      <th>24시와구아구</th>\n",
       "      <td>1</td>\n",
       "    </tr>\n",
       "    <tr>\n",
       "      <th>60년전통 신촌황소곱창 선릉직영점</th>\n",
       "      <td>1</td>\n",
       "    </tr>\n",
       "    <tr>\n",
       "      <th>7%칠백식당 포스코직영점</th>\n",
       "      <td>1</td>\n",
       "    </tr>\n",
       "    <tr>\n",
       "      <th>705사케집 선릉점</th>\n",
       "      <td>1</td>\n",
       "    </tr>\n",
       "    <tr>\n",
       "      <th>...</th>\n",
       "      <td>...</td>\n",
       "    </tr>\n",
       "    <tr>\n",
       "      <th>후웨이즈텐카민</th>\n",
       "      <td>1</td>\n",
       "    </tr>\n",
       "    <tr>\n",
       "      <th>후지</th>\n",
       "      <td>1</td>\n",
       "    </tr>\n",
       "    <tr>\n",
       "      <th>흑돈가 삼성역점</th>\n",
       "      <td>1</td>\n",
       "    </tr>\n",
       "    <tr>\n",
       "      <th>희 카롱</th>\n",
       "      <td>1</td>\n",
       "    </tr>\n",
       "    <tr>\n",
       "      <th>히라이 선릉점</th>\n",
       "      <td>1</td>\n",
       "    </tr>\n",
       "  </tbody>\n",
       "</table>\n",
       "<p>504 rows × 1 columns</p>\n",
       "</div>"
      ],
      "text/plain": [
       "                    count\n",
       "name                     \n",
       "1260이베리코흑돼지 강남직영점       1\n",
       "24시와구아구                 1\n",
       "60년전통 신촌황소곱창 선릉직영점      1\n",
       "7%칠백식당 포스코직영점           1\n",
       "705사케집 선릉점              1\n",
       "...                   ...\n",
       "후웨이즈텐카민                 1\n",
       "후지                      1\n",
       "흑돈가 삼성역점                1\n",
       "희 카롱                    1\n",
       "히라이 선릉점                 1\n",
       "\n",
       "[504 rows x 1 columns]"
      ]
     },
     "metadata": {},
     "execution_count": 7
    }
   ],
   "metadata": {}
  },
  {
   "cell_type": "code",
   "execution_count": 8,
   "source": [
    "all_count.value_counts()"
   ],
   "outputs": [
    {
     "output_type": "execute_result",
     "data": {
      "text/plain": [
       "count\n",
       "1        318\n",
       "2        112\n",
       "3         48\n",
       "4         26\n",
       "dtype: int64"
      ]
     },
     "metadata": {},
     "execution_count": 8
    }
   ],
   "metadata": {}
  },
  {
   "cell_type": "code",
   "execution_count": 9,
   "source": [
    "review_only_one = all_count[all_count[\"count\"] == 1]\n",
    "name_only_one_list = set(review_only_one.index)\n",
    "print(name_only_one_list, len(name_only_one_list))"
   ],
   "outputs": [
    {
     "output_type": "stream",
     "name": "stdout",
     "text": [
      "{'이백 역삼점', '쇠뚜레', '젠제로', '껠끄쇼즈', '강남면옥 대치점', '카페베네 선릉역점', '해초록 별채사랑방', '스시류', '새집남원추어탕', '비블레스', '금수복국 대치점', '스타벅스 선릉로점', '24시와구아구', '미즈호노 스시야 대치점', '본죽 선릉역점', '일미집 강남직영점', '마구로젠', '배스킨라빈스 선릉점', '수림복국 본관', '이대성의진면목', '한앤둘치킨 선릉점', '김태주선산곱창 강남점', '카페봄', '오더에스프레소', '명인등심 삼성직영점', '화포식당 선릉점', '그란구스또', '딸부자네불백 역삼점', '싸프란겔', '엔제리너스 선릉골드로즈점', '빽다방 선릉중앙점', '롤리폴리꼬또', '파크루안 역삼점', '에그드랍 선릉역점', '츄라우미 역삼본점', '상아김밥 선릉직영점', '봉산집', '칠백식당 삼성직영점', '도쿄술집 선릉역점', '전가네손칼국수', '대파집', '클럽케이서울', '우밀면옥 상록점', '교대이층집 삼성점', '행복김밥', '황태마을', '빽다방 선릉역1호점', '우진가 더 챔버스', '써브웨이 삼성점', '지아니스나폴리 역삼점', '인기명 삼성점', '문배동육칼 삼성직영점', '투썸플레이스 대치선릉점', '부엉이식당', '바나프레소 선릉역사거리점', '대우부대찌개', '미성양꼬치 삼성점', '피양콩할마니 본점', '스타벅스 선릉역점', '우리집', '수담한정식', '신강양꼬치 선릉점', '소공순대', '붓처스컷 삼성점', '60년전통 신촌황소곱창 선릉직영점', '아오끼', '흑돈가 삼성역점', '브롱스 선릉점', '청춘화로 선릉점', '복돈이가마솥순대국', '에드빗커피', '로네펠트', '다노이 선릉점', '롯데리아 선릉점', '나향반점', '생활맥주 선릉역점', '마라공방 역삼점', '커피빈 선릉로86길점', '원조양평해장국', '마녀김밥 대치점', '식물원282', '신도세기 선릉점', '팀호완 삼성점', '이도곰탕 본점', '지구당 현대타워점', '피쉬스타 역삼점', '커피빈 선릉로93길점', '카페인더시티', '능라도 강남점', '영덕물회', '순남시래기 역삼점', '파리바게뜨 선릉진선점', '써브웨이 선릉점', '선릉설렁탕', '대독장 역삼점', '포메인 선릉역점', '살루쪼', '진대감 역삼점', '7%칠백식당 포스코직영점', '선릉을지순대국', '오성식당', '꽃새우영번지 역삼점', '플로팅 L7강남점', '김영태스시앤사시미마을 강남본점', '봉우리 역삼본점', '카토멘 대치본점', '큰돈가', '천사의섬', '지구당 역삼두꺼비빌딩점', '도원', '황우양대창', '삼육가 삼성역점', '몰트바 배럴', '돝고기506', '데쎄르룸', '부타이', 'JVL부대찌개 포스코점', '멍텅구리꼼장어막창 삼성동본점', '명가교동짬뽕 선릉2호점', '여수동촌 대치점', '선릉가든', '원조한방정통삼계탕', '전주콩나물국밥', '카메스시', '스시쇼우키', '제주몬트락 한티점', '강남샤오츠', '김양', '고반식당 삼성점', '스타벅스 르네상스사거리점', '이자카야나무 선릉점', '이태리부대찌개 선릉직영점', '전통백암순대국 삼성점', '장쓰동', '용호낙지 강남점', '더차이홍 삼성점', '맥주를듣는사람들 아크 선릉점', '맥도날드 강남삼성DT점', '신동궁감자탕뼈숯불구이 선릉직영점', '불이아 역삼점', '카페413프로젝트', '해우리 선릉L7점', '우노', '호또치킨 강남본점', '호타루 선릉점', '어람촌', '보름쇠 삼성점', '구을가', '무리무리', '바나프레소 선정릉점', '범표원두 역삼점', '대치정육식당 본점', '맷카페', '모리향', '초가집삼계탕', '갈맛집', '순남시래기 서울선릉점', '나따오비까 대치점', '최가네버섯샤브매운탕칼국수 대치점', '오목집 한티점', '스타벅스 선정릉역', '강남본가가마골', '란수사', '맑은바닷가', '춘이네닭도리탕 동생1호선릉직영점', '해담일식', '고메램 삼성점', '오징어청춘 대치본점', '우밀가 안동국시 선릉점', '동해식당', '싸리골', '삼백집 역삼역점', '용수사', '진가와 한국본점', '담뿍화로된장찌개 대치점', '볼빨간딱새우', '이태리부대찌개 역삼GS점', '벽돌집60-5', '스시유리', '우시야 역삼점', '진수사', '705사케집 선릉점', '윤가 역삼점', '교대이층집 선릉점', '고갯마루', '타이거슈가 삼성로점', '노가리슈퍼 선릉점', '이남장', '마노디셰프 삼성점', '사주테라피', '진대감 삼성점', '설빙 선릉점', '사람사는 고깃집 김일도 삼성코엑스점', '나무', '동대문엽기떡볶이 대치점', '삼호복집', '소라야', '나주육곱식당 강남직영점', '파이어벨 대치점', '대찬횟집', '난만', '분틀 선릉점', '사까나야바로바로 선릉점', '마초갈비 선릉역점', '박서방순대국밥 삼성본점', '여수오동도', '쟈르뎅페르뒤', '남도구들한정식 본점', '바른치킨 강남선릉점', '바게트K', '강정희간장새우', '르플로우', '파리바게뜨 선릉아이타워점', '쫀득이족발', '호신각', '선릉루킹래징', '누구나홀딱반한닭 선릉점', '영동떡볶이', '포레스트힐링카페', '일등추어탕', '선릉궁중갈비탕곰탕', '제주삼육돈 선릉직영점', '전주순대국', '개그맨정용국의용곱창', '1260이베리코흑돼지 강남직영점', '뚜레쥬르 카페선릉역점', '한솥도시락 르네상스호텔사거리점', '마부육전 선릉직영점', '이가네양꼬치 대치동점', '멜로워 역삼더퍼스트', '스타벅스 삼성점', '한죽그리고삼계탕 본점', '할리스 선릉샹제리제점', '뱅가드와인머천트 강남점', '더차이나', '희 카롱', '리밍', '커피빈 선릉역3번출구세방빌딩점', '고기고샵 삼성역점', '구이마마 대치점', '아야진생태찌개 본점', '달콤한고양이 대치점', '신라다랑원', '88노가리 선릉본점', '교동전선생 선릉역점', '연스시', '후웨이즈텐카민', '밀도 한티역점', '에슬로우커피 선릉2호점', '유리카모메 선릉식당', '버거킹 선릉역점(2021년10월27일까지 휴업)', '일일향 삼성점', '남산노포식당 선릉본점', '타코벨 선릉점', '백운봉막국수 본점', '신도세기 삼성역점', '수다 삼성2호점', '로얄마카롱', '후지', '레이어프로젝트', '르브런쉭 대치점', '해담채 삼성점', '정통원조한방삼계탕', '시골진지상', '놀란치킨 선릉점', '신전떡볶이 대치점', '맘스터치 강남선릉점', '기네스하우스', '남도사계고운님', '낭만옵빠 선릉점', '김태완스시', '보노보노플러스 삼성점', '곰바위', '네모오징어 선릉점', '강남묵호등대', '갈비삼대참숯구이전문 강남역삼점', '고메고매 선릉직영점', '명동피자 대치점', '이가네양꼬치 선릉점', '파리바게뜨 카페선릉점', '히라이 선릉점', '우리집만두 선릉점', '항아리보쌈 선릉점', '삼다족발', '우가네', '도마다리뼈다귀감자탕', '사람사는고깃집김일도 선릉점', '오레노 선릉점', '친친', '카페레꼴뜨', 'CSI VR방탈출카페 대치선릉점', '아우어베이커리 싸이더스점', '베이징코야 역삼동점', '투썸플레이스 선릉ING점', '시추안하우스 삼성점', '올툰24시만화카페 선릉점', '던킨도너츠 선릉역점', '바우한우', '스미즈', '배스킨라빈스 대치점', '신라스테이 역삼 카페', '레드비틀', '탐라도야지', '한가네숯불닭갈비 역삼점', '선릉본가 쭈꾸미와대패삼겹', '예천 유산균한우정육타운', '경평면옥', '육시리 역삼본점', '청담동장독대 김치찌개', '옛날농장', '돼지연구소 선정릉직영점', '코이라멘 한티역점', '마담밍 선릉점', '제주보쌈아강족발 선릉점', '백수산', '시골빈대떡파전 선릉본점', '금복당', '브루클린더버거조인트 삼성점'} 318\n"
     ]
    }
   ],
   "metadata": {}
  },
  {
   "cell_type": "code",
   "execution_count": 10,
   "source": [
    "review_more_two = all_count[all_count[\"count\"] != 1]\n",
    "name_set = set(review_more_two.index)\n",
    "# ss_name_list = list(ss_names.intersection(name_list))\n",
    "# k_name_list = list(k_names.intersection(name_list))\n",
    "# m_name_list = list(m_names.intersection(name_list))\n",
    "print(name_set, len(name_set))"
   ],
   "outputs": [
    {
     "output_type": "stream",
     "name": "stdout",
     "text": [
      "{'샹베리', '스타벅스 선릉세화빌딩점', '오징어풍경', '쏭타이 역삼점', '반포식스 선릉역점', '아야커피', '장진참치', '하얼빈가정식 본점', '황금어장', '하동관 강남분점', '재패니즈다이닝안심', '연타발 선릉점', '지유가오카핫초메 선릉점', '애니홀', '명랑회관 선릉점', '고반식당 선릉점', '달빛보쌈 논현점', '문어랑 상록점', '인평일등추어탕', '카츠젠 선릉점', '대파양곱창', '카발', '잭슨피자 대치점', '진풍정 강남점', '포하임 선릉점', '대도식당 삼성점', '청자골', '맛있는제주', '우마쿠라', '코벤트가든 선릉점', '국고집', '브라운돈까스 선릉점', '대치동집', '오카에리', '잼라운지', '도쿄등심 선릉점', '별미곳간', '슐미랭삼 선릉점', '투썸플레이스 테헤란선릉역점', '참치공간', '버드나무집 역삼점', '빌리엔젤 신라스테이점', '본죽&비빔밥cafe 선릉점', '조개사냥', '그릴1492 삼성1호점', '가연', '북창동순두부 선릉2호점', '동해수산', '양가식당', '하남돼지집 선릉1호점', '남원추어탕', '차호랑', '외고집설렁탕', '이승재참치', '고메홈', '잇쇼우', '제주은희네해장국 선릉직영점', '예향', '스시키', '커피마마퀸 선릉점', '라피자노스트라', '마라테이블', '미쓰양꼬치', '광주식당', '해피해피케이크', '마라차이즈', '전봇대', '평가옥 삼성점', '하루', '쌍룡갈비', '이디야커피 선릉역점', '선릉양조장족발', '어로장', '풍년집 선릉점', '샐러디 선릉점', '농민백암순대 본점', '모범떡볶이1976 선릉점', '코르바니', '연', '샤오바오우육면', '김봉남포장마차 선릉점', '동보성 강남점', '경천애인2237', '칠랑고', '청국장서갈비', '두레국수', '테라로사 포스코센터점', '수라선 역삼점', '삼성동커피볶는집', '몰타참치', '동래정 선릉직영점', '채린', '더피자스탠드', '큰입아구찜', '비언유주얼', '유하제과', '스시소라', '뚝심한우 선릉역점', '바스버거 선릉점', '로브니', '강남수랏간', '별양집', '창고43 역삼점', '한성양꼬치 선릉2호점', '천용', '장정정', '조개천국', '하오', '니뽕내뽕 선릉점', '신흥정육식당', '우밀가 대치본점', '쇼유식당', '조인바이트', '미트앤번버거샵 강남점', '겐비이자카야', '아카라', '오또상스시', '카페그라노', '곰작골나주곰탕 선릉점', '정참치', '서래향', '청춘어람', '고운님한우곱창', '홍백', '메이크샐러드 선릉점', '스시노스시', '아리양', '세광양대창 선릉점', '화수사', '등촌샤브칼국수 선릉점', '오마치슌', '선릉순대국', '원조광양불고기 삼성점', '가나돈까스의집', '의령전원', '참치공방 선릉점', '어반81', '미랑', '센도수산', '김돈이 본점', '돈그리아', '삼미대포 선릉점', '진대감 선릉점', '마초야', '무한장어 역삼점', '보영만두 선릉점', '커리146 강남점', '일미리금계찜닭 선릉점', '빌리앤오티스', '세드라', '육시리 선릉점', '한미옥', '카페레이어스튜디오', '통영집', '해장옥', '스타벅스 선릉동신빌딩R점', '트라토리아모로', '알로이타이', '모찌방', '기세끼 선릉점', '광수사', '비야게레로', '참치그라', '수다 대치점', '맥도날드 선릉점', '판동면옥', '스노우폭스 선릉역점', '청춘닭볶이', '한성양갈비구이', '라무진 선릉역점', '홍대포', '블랙랩', '군자대한곱창 선릉점', '치찌중화식탁', '자유참치', '반룡산', '부산양곱창', '스시산원', '어메이징타이', '뽕나무쟁이 선릉본점', '스시마이우 선릉역점', '하오마라 선릉점'} 182\n"
     ]
    }
   ],
   "metadata": {}
  },
  {
   "cell_type": "code",
   "execution_count": 11,
   "source": [
    "review_more_two = all_count[all_count[\"count\"] != 1]\n",
    "name_list = list(review_more_two.index)\n",
    "# ss_name_list = list(ss_names.intersection(name_list))\n",
    "# k_name_list = list(k_names.intersection(name_list))\n",
    "# m_name_list = list(m_names.intersection(name_list))\n",
    "print(name_list, len(name_list))"
   ],
   "outputs": [
    {
     "output_type": "stream",
     "name": "stdout",
     "text": [
      "['가나돈까스의집', '가연', '강남수랏간', '겐비이자카야', '경천애인2237', '고메홈', '고반식당 선릉점', '고운님한우곱창', '곰작골나주곰탕 선릉점', '광수사', '광주식당', '국고집', '군자대한곱창 선릉점', '그릴1492 삼성1호점', '기세끼 선릉점', '김돈이 본점', '김봉남포장마차 선릉점', '남원추어탕', '농민백암순대 본점', '니뽕내뽕 선릉점', '달빛보쌈 논현점', '대도식당 삼성점', '대치동집', '대파양곱창', '더피자스탠드', '도쿄등심 선릉점', '도쿄등심 선릉점', '돈그리아', '동래정 선릉직영점', '동보성 강남점', '동해수산', '두레국수', '등촌샤브칼국수 선릉점', '뚝심한우 선릉역점', '라무진 선릉역점', '라피자노스트라', '로브니', '마라차이즈', '마라테이블', '마초야', '맛있는제주', '맥도날드 선릉점', '메이크샐러드 선릉점', '명랑회관 선릉점', '모범떡볶이1976 선릉점', '모찌방', '몰타참치', '무한장어 역삼점', '문어랑 상록점', '문어랑 상록점', '미랑', '미랑', '미쓰양꼬치', '미트앤번버거샵 강남점', '바스버거 선릉점', '반룡산', '반포식스 선릉역점', '버드나무집 역삼점', '별미곳간', '별양집', '별양집', '보영만두 선릉점', '본죽&비빔밥cafe 선릉점', '부산양곱창', '북창동순두부 선릉2호점', '브라운돈까스 선릉점', '블랙랩', '비야게레로', '비언유주얼', '빌리앤오티스', '빌리엔젤 신라스테이점', '뽕나무쟁이 선릉본점', '삼미대포 선릉점', '삼성동커피볶는집', '샐러디 선릉점', '샤오바오우육면', '샹베리', '서래향', '선릉순대국', '선릉양조장족발', '세광양대창 선릉점', '세드라', '센도수산', '쇼유식당', '수다 대치점', '수라선 역삼점', '슐미랭삼 선릉점', '스노우폭스 선릉역점', '스시노스시', '스시마이우 선릉역점', '스시산원', '스시소라', '스시키', '스타벅스 선릉동신빌딩R점', '스타벅스 선릉세화빌딩점', '신흥정육식당', '쌍룡갈비', '쏭타이 역삼점', '아리양', '아야커피', '아카라', '알로이타이', '애니홀', '양가식당', '어로장', '어메이징타이', '어반81', '연', '연타발 선릉점', '예향', '오또상스시', '오마치슌', '오징어풍경', '오카에리', '외고집설렁탕', '우마쿠라', '우밀가 대치본점', '원조광양불고기 삼성점', '유하제과', '육시리 선릉점', '의령전원', '이디야커피 선릉역점', '이승재참치', '인평일등추어탕', '일미리금계찜닭 선릉점', '잇쇼우', '자유참치', '장정정', '장진참치', '재패니즈다이닝안심', '잭슨피자 대치점', '잼라운지', '전봇대', '정참치', '제주은희네해장국 선릉직영점', '조개사냥', '조개천국', '조인바이트', '지유가오카핫초메 선릉점', '진대감 선릉점', '진풍정 강남점', '차호랑', '참치공간', '참치공방 선릉점', '참치그라', '창고43 역삼점', '채린', '천용', '청국장서갈비', '청자골', '청춘닭볶이', '청춘어람', '치찌중화식탁', '칠랑고', '카발', '카츠젠 선릉점', '카페그라노', '카페레이어스튜디오', '커리146 강남점', '커피마마퀸 선릉점', '코르바니', '코벤트가든 선릉점', '큰입아구찜', '테라로사 포스코센터점', '통영집', '투썸플레이스 테헤란선릉역점', '트라토리아모로', '판동면옥', '평가옥 삼성점', '포하임 선릉점', '풍년집 선릉점', '하남돼지집 선릉1호점', '하동관 강남분점', '하루', '하얼빈가정식 본점', '하오', '하오마라 선릉점', '한미옥', '한성양갈비구이', '한성양꼬치 선릉2호점', '해장옥', '해피해피케이크', '홍대포', '홍백', '화수사', '황금어장'] 186\n"
     ]
    }
   ],
   "metadata": {}
  },
  {
   "cell_type": "code",
   "execution_count": 12,
   "source": [
    "name_list = sorted(list(name_set))"
   ],
   "outputs": [],
   "metadata": {}
  },
  {
   "cell_type": "markdown",
   "source": [
    "# 2개 이상의 플랫폼에서 리뷰가 존재하는 리뷰만 모으기"
   ],
   "metadata": {}
  },
  {
   "cell_type": "code",
   "execution_count": 13,
   "source": [
    "k_review = k_review[k_review[\"name\"].isin(name_list)]\n",
    "print(k_review.info())\n",
    "k_review[\"name\"].nunique()"
   ],
   "outputs": [
    {
     "output_type": "stream",
     "name": "stdout",
     "text": [
      "<class 'pandas.core.frame.DataFrame'>\n",
      "Int64Index: 3015 entries, 0 to 7085\n",
      "Data columns (total 5 columns):\n",
      " #   Column       Non-Null Count  Dtype \n",
      "---  ------       --------------  ----- \n",
      " 0   platform     3015 non-null   object\n",
      " 1   name         3015 non-null   object\n",
      " 2   rating       3015 non-null   int64 \n",
      " 3   rating_date  3015 non-null   object\n",
      " 4   comment      3015 non-null   object\n",
      "dtypes: int64(1), object(4)\n",
      "memory usage: 141.3+ KB\n",
      "None\n"
     ]
    },
    {
     "output_type": "execute_result",
     "data": {
      "text/plain": [
       "182"
      ]
     },
     "metadata": {},
     "execution_count": 13
    }
   ],
   "metadata": {}
  },
  {
   "cell_type": "code",
   "execution_count": 14,
   "source": [
    "ss_review = ss_review[ss_review[\"name\"].isin(name_list)]\n",
    "print(ss_review.info())\n",
    "ss_review[\"name\"].nunique()"
   ],
   "outputs": [
    {
     "output_type": "stream",
     "name": "stdout",
     "text": [
      "<class 'pandas.core.frame.DataFrame'>\n",
      "Int64Index: 1197 entries, 4 to 2041\n",
      "Data columns (total 4 columns):\n",
      " #   Column    Non-Null Count  Dtype \n",
      "---  ------    --------------  ----- \n",
      " 0   platform  1197 non-null   object\n",
      " 1   name      1197 non-null   object\n",
      " 2   rating    1197 non-null   object\n",
      " 3   comment   1197 non-null   object\n",
      "dtypes: object(4)\n",
      "memory usage: 46.8+ KB\n",
      "None\n"
     ]
    },
    {
     "output_type": "execute_result",
     "data": {
      "text/plain": [
       "54"
      ]
     },
     "metadata": {},
     "execution_count": 14
    }
   ],
   "metadata": {}
  },
  {
   "cell_type": "code",
   "execution_count": 15,
   "source": [
    "m_review = m_review[m_review[\"name\"].isin(name_list)]\n",
    "print(m_review.info())\n",
    "m_review[\"name\"].nunique()"
   ],
   "outputs": [
    {
     "output_type": "stream",
     "name": "stdout",
     "text": [
      "<class 'pandas.core.frame.DataFrame'>\n",
      "Int64Index: 910 entries, 0 to 2922\n",
      "Data columns (total 4 columns):\n",
      " #   Column       Non-Null Count  Dtype \n",
      "---  ------       --------------  ----- \n",
      " 0   name         910 non-null    object\n",
      " 1   rating_date  910 non-null    object\n",
      " 2   comment      910 non-null    object\n",
      " 3   rating       910 non-null    int64 \n",
      "dtypes: int64(1), object(3)\n",
      "memory usage: 35.5+ KB\n",
      "None\n"
     ]
    },
    {
     "output_type": "execute_result",
     "data": {
      "text/plain": [
       "62"
      ]
     },
     "metadata": {},
     "execution_count": 15
    }
   ],
   "metadata": {}
  },
  {
   "cell_type": "code",
   "execution_count": 16,
   "source": [
    "n_review = n_review[n_review[\"name\"].isin(name_list)]\n",
    "print(n_review.info())\n",
    "n_review[\"name\"].nunique()"
   ],
   "outputs": [
    {
     "output_type": "stream",
     "name": "stdout",
     "text": [
      "<class 'pandas.core.frame.DataFrame'>\n",
      "Int64Index: 13203 entries, 51 to 20972\n",
      "Data columns (total 4 columns):\n",
      " #   Column       Non-Null Count  Dtype  \n",
      "---  ------       --------------  -----  \n",
      " 0   name         13203 non-null  object \n",
      " 1   rating_date  13203 non-null  object \n",
      " 2   comment      12946 non-null  object \n",
      " 3   rating       13203 non-null  float64\n",
      "dtypes: float64(1), object(3)\n",
      "memory usage: 515.7+ KB\n",
      "None\n"
     ]
    },
    {
     "output_type": "execute_result",
     "data": {
      "text/plain": [
       "76"
      ]
     },
     "metadata": {},
     "execution_count": 16
    }
   ],
   "metadata": {}
  },
  {
   "cell_type": "markdown",
   "source": [
    "# 카테고리 분류하기"
   ],
   "metadata": {}
  },
  {
   "cell_type": "code",
   "execution_count": 17,
   "source": [
    "k_data_index_name = k_data.set_index(\"name\")\n",
    "all_count[\"category\"] = k_data_index_name[\"category\"]\n",
    "all_count.head(20)"
   ],
   "outputs": [
    {
     "output_type": "execute_result",
     "data": {
      "text/html": [
       "<div>\n",
       "<style scoped>\n",
       "    .dataframe tbody tr th:only-of-type {\n",
       "        vertical-align: middle;\n",
       "    }\n",
       "\n",
       "    .dataframe tbody tr th {\n",
       "        vertical-align: top;\n",
       "    }\n",
       "\n",
       "    .dataframe thead th {\n",
       "        text-align: right;\n",
       "    }\n",
       "</style>\n",
       "<table border=\"1\" class=\"dataframe\">\n",
       "  <thead>\n",
       "    <tr style=\"text-align: right;\">\n",
       "      <th></th>\n",
       "      <th>count</th>\n",
       "      <th>category</th>\n",
       "    </tr>\n",
       "    <tr>\n",
       "      <th>name</th>\n",
       "      <th></th>\n",
       "      <th></th>\n",
       "    </tr>\n",
       "  </thead>\n",
       "  <tbody>\n",
       "    <tr>\n",
       "      <th>1260이베리코흑돼지 강남직영점</th>\n",
       "      <td>1</td>\n",
       "      <td>육류,고기</td>\n",
       "    </tr>\n",
       "    <tr>\n",
       "      <th>24시와구아구</th>\n",
       "      <td>1</td>\n",
       "      <td>아구</td>\n",
       "    </tr>\n",
       "    <tr>\n",
       "      <th>60년전통 신촌황소곱창 선릉직영점</th>\n",
       "      <td>1</td>\n",
       "      <td>곱창,막창</td>\n",
       "    </tr>\n",
       "    <tr>\n",
       "      <th>7%칠백식당 포스코직영점</th>\n",
       "      <td>1</td>\n",
       "      <td>육류,고기</td>\n",
       "    </tr>\n",
       "    <tr>\n",
       "      <th>705사케집 선릉점</th>\n",
       "      <td>1</td>\n",
       "      <td>일본식주점</td>\n",
       "    </tr>\n",
       "    <tr>\n",
       "      <th>88노가리 선릉본점</th>\n",
       "      <td>1</td>\n",
       "      <td>호프,요리주점</td>\n",
       "    </tr>\n",
       "    <tr>\n",
       "      <th>CSI VR방탈출카페 대치선릉점</th>\n",
       "      <td>1</td>\n",
       "      <td>테마카페</td>\n",
       "    </tr>\n",
       "    <tr>\n",
       "      <th>JVL부대찌개 포스코점</th>\n",
       "      <td>1</td>\n",
       "      <td>찌개,전골</td>\n",
       "    </tr>\n",
       "    <tr>\n",
       "      <th>가나돈까스의집</th>\n",
       "      <td>2</td>\n",
       "      <td>돈까스,우동</td>\n",
       "    </tr>\n",
       "    <tr>\n",
       "      <th>가연</th>\n",
       "      <td>2</td>\n",
       "      <td>국수</td>\n",
       "    </tr>\n",
       "    <tr>\n",
       "      <th>갈맛집</th>\n",
       "      <td>1</td>\n",
       "      <td>갈비</td>\n",
       "    </tr>\n",
       "    <tr>\n",
       "      <th>갈비삼대참숯구이전문 강남역삼점</th>\n",
       "      <td>1</td>\n",
       "      <td>갈비</td>\n",
       "    </tr>\n",
       "    <tr>\n",
       "      <th>강남면옥 대치점</th>\n",
       "      <td>1</td>\n",
       "      <td>냉면</td>\n",
       "    </tr>\n",
       "    <tr>\n",
       "      <th>강남묵호등대</th>\n",
       "      <td>1</td>\n",
       "      <td>회</td>\n",
       "    </tr>\n",
       "    <tr>\n",
       "      <th>강남본가가마골</th>\n",
       "      <td>1</td>\n",
       "      <td>육류,고기</td>\n",
       "    </tr>\n",
       "    <tr>\n",
       "      <th>강남샤오츠</th>\n",
       "      <td>1</td>\n",
       "      <td>중식</td>\n",
       "    </tr>\n",
       "    <tr>\n",
       "      <th>강남수랏간</th>\n",
       "      <td>3</td>\n",
       "      <td>육류,고기</td>\n",
       "    </tr>\n",
       "    <tr>\n",
       "      <th>강정희간장새우</th>\n",
       "      <td>1</td>\n",
       "      <td>해물,생선</td>\n",
       "    </tr>\n",
       "    <tr>\n",
       "      <th>개그맨정용국의용곱창</th>\n",
       "      <td>1</td>\n",
       "      <td>곱창,막창</td>\n",
       "    </tr>\n",
       "    <tr>\n",
       "      <th>겐비이자카야</th>\n",
       "      <td>2</td>\n",
       "      <td>일본식주점</td>\n",
       "    </tr>\n",
       "  </tbody>\n",
       "</table>\n",
       "</div>"
      ],
      "text/plain": [
       "                    count category\n",
       "name                              \n",
       "1260이베리코흑돼지 강남직영점       1    육류,고기\n",
       "24시와구아구                 1       아구\n",
       "60년전통 신촌황소곱창 선릉직영점      1    곱창,막창\n",
       "7%칠백식당 포스코직영점           1    육류,고기\n",
       "705사케집 선릉점              1    일본식주점\n",
       "88노가리 선릉본점              1  호프,요리주점\n",
       "CSI VR방탈출카페 대치선릉점       1     테마카페\n",
       "JVL부대찌개 포스코점            1    찌개,전골\n",
       "가나돈까스의집                 2   돈까스,우동\n",
       "가연                      2       국수\n",
       "갈맛집                     1       갈비\n",
       "갈비삼대참숯구이전문 강남역삼점        1       갈비\n",
       "강남면옥 대치점                1       냉면\n",
       "강남묵호등대                  1        회\n",
       "강남본가가마골                 1    육류,고기\n",
       "강남샤오츠                   1       중식\n",
       "강남수랏간                   3    육류,고기\n",
       "강정희간장새우                 1    해물,생선\n",
       "개그맨정용국의용곱창              1    곱창,막창\n",
       "겐비이자카야                  2    일본식주점"
      ]
     },
     "metadata": {},
     "execution_count": 17
    }
   ],
   "metadata": {}
  },
  {
   "cell_type": "code",
   "execution_count": 26,
   "source": [
    "all_cat_count = pd.DataFrame(all_count.reset_index().groupby(\"category\").size())\n",
    "all_cat_count.info()"
   ],
   "outputs": [
    {
     "output_type": "stream",
     "name": "stdout",
     "text": [
      "<class 'pandas.core.frame.DataFrame'>\n",
      "Index: 76 entries, 갈비 to 회\n",
      "Data columns (total 1 columns):\n",
      " #   Column  Non-Null Count  Dtype\n",
      "---  ------  --------------  -----\n",
      " 0   0       76 non-null     int64\n",
      "dtypes: int64(1)\n",
      "memory usage: 1.2+ KB\n"
     ]
    }
   ],
   "metadata": {}
  },
  {
   "cell_type": "code",
   "execution_count": null,
   "source": [],
   "outputs": [],
   "metadata": {}
  },
  {
   "cell_type": "code",
   "execution_count": null,
   "source": [],
   "outputs": [],
   "metadata": {}
  },
  {
   "cell_type": "code",
   "execution_count": null,
   "source": [],
   "outputs": [],
   "metadata": {}
  },
  {
   "cell_type": "markdown",
   "source": [
    "# 메뉴 종류 파악해보기"
   ],
   "metadata": {}
  },
  {
   "cell_type": "code",
   "execution_count": null,
   "source": [
    "os.chdir('../kakao')\n",
    "menus = pd.read_csv(\"kakao_restaurant_menu.csv\", header=0, names=[\"name\",\"menu\"], usecols=[1, 2])\n",
    "\n",
    "os.chdir(\"../data_analysis\")\n",
    "menus = menus[menus[\"name\"].isin(name_list)]\n",
    "\n",
    "# menu 누락 식당 - ['고운님한우곱창', '등촌샤브칼국수 선릉점', '명랑회관 선릉점','본죽&비빔밥cafe 선릉점', '쇼유식당',  '예향', '오또상스시', '원조광양불고기 삼성점', '유하제과', '코르바니', '하남돼지집 선릉1호점', ]\n",
    "print(sorted(list(menus[\"name\"].unique())))"
   ],
   "outputs": [],
   "metadata": {}
  },
  {
   "cell_type": "code",
   "execution_count": null,
   "source": [
    "menus.info()"
   ],
   "outputs": [],
   "metadata": {}
  },
  {
   "cell_type": "code",
   "execution_count": null,
   "source": [
    "menus[\"menu\"] = menus.menu.str.split(\"(\").str[0].str.strip(\" \")\n",
    "menus.drop_duplicates(inplace=True)\n",
    "print(menus[\"menu\"].nunique())\n",
    "menus.info()"
   ],
   "outputs": [],
   "metadata": {}
  },
  {
   "cell_type": "code",
   "execution_count": null,
   "source": [
    "print(menus[\"menu\"].nunique())"
   ],
   "outputs": [],
   "metadata": {}
  },
  {
   "cell_type": "code",
   "execution_count": null,
   "source": [
    "menus.value_counts()"
   ],
   "outputs": [],
   "metadata": {}
  },
  {
   "cell_type": "code",
   "execution_count": null,
   "source": [],
   "outputs": [],
   "metadata": {}
  },
  {
   "cell_type": "code",
   "execution_count": null,
   "source": [
    "from collections import Counter\n",
    "from wordcloud import WordCloud,STOPWORDS\n",
    "from konlpy.tag import Okt\n",
    "import matplotlib.pyplot as plt\n",
    "\n",
    "%matplotlib inline\n",
    "okt = Okt()"
   ],
   "outputs": [],
   "metadata": {}
  },
  {
   "cell_type": "code",
   "execution_count": null,
   "source": [
    "words = okt.pos('한국어분석 스타트해보실까나?')\n",
    "cnt = Counter(words)\n",
    "cnt"
   ],
   "outputs": [],
   "metadata": {}
  },
  {
   "cell_type": "code",
   "execution_count": null,
   "source": [
    "wc = WordCloud(background_color=\"#ffffff\", width=1000, height=1000, max_font_size=300, max_words=1000, font_path=\"HangeulNuriR.ttf\")"
   ],
   "outputs": [],
   "metadata": {}
  },
  {
   "cell_type": "code",
   "execution_count": null,
   "source": [
    "test = wc.generate_from_text(str(n_review[\"comment\"]))\n",
    "plt.imshow(test)\n",
    "plt.axis(\"off\")\n",
    "plt.show()"
   ],
   "outputs": [],
   "metadata": {}
  },
  {
   "cell_type": "code",
   "execution_count": null,
   "source": [
    "# wc.to_file(\"test.png\")"
   ],
   "outputs": [],
   "metadata": {}
  },
  {
   "cell_type": "code",
   "execution_count": null,
   "source": [],
   "outputs": [],
   "metadata": {}
  }
 ],
 "metadata": {
  "orig_nbformat": 4,
  "language_info": {
   "name": "python",
   "version": "3.9.7",
   "mimetype": "text/x-python",
   "codemirror_mode": {
    "name": "ipython",
    "version": 3
   },
   "pygments_lexer": "ipython3",
   "nbconvert_exporter": "python",
   "file_extension": ".py"
  },
  "kernelspec": {
   "name": "python3",
   "display_name": "Python 3.9.7 64-bit ('delivery': conda)"
  },
  "interpreter": {
   "hash": "46d1000c09464e93fb82c82facef9f39bd5cbe64c1a63133cf55523e5cc8c1c4"
  }
 },
 "nbformat": 4,
 "nbformat_minor": 2
}